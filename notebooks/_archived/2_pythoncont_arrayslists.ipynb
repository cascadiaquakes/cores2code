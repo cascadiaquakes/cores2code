{
 "cells": [
  {
   "cell_type": "markdown",
   "metadata": {},
   "source": [
    "#  Python Basics continued, and Arrays and Lists\n",
    "ERTH 363, Spring 2022, Week 3 Class 1\n",
    "4/11/2022"
   ]
  },
  {
   "cell_type": "code",
   "execution_count": 1,
   "metadata": {},
   "outputs": [],
   "source": [
    "## Import numpy\n",
    "import numpy as np"
   ]
  },
  {
   "cell_type": "code",
   "execution_count": 4,
   "metadata": {},
   "outputs": [],
   "source": [
    "## Finish up on operators\n",
    "\n",
    "## To set a variable or identifier equal to something, use =:\n",
    "a = 2\n",
    "b=3\n",
    "\n",
    "## Can use spaces or not in between, but keep it consistent\n",
    "\n",
    "## In python, use > to be greater than, and < to be less than"
   ]
  },
  {
   "cell_type": "code",
   "execution_count": 5,
   "metadata": {},
   "outputs": [
    {
     "data": {
      "text/plain": [
       "2"
      ]
     },
     "execution_count": 5,
     "metadata": {},
     "output_type": "execute_result"
    }
   ],
   "source": [
    "## In jupyter notebook, can print variables in two ways:\n",
    "## 1. type the variable\n",
    "a"
   ]
  },
  {
   "cell_type": "code",
   "execution_count": 6,
   "metadata": {},
   "outputs": [
    {
     "name": "stdout",
     "output_type": "stream",
     "text": [
      "2\n"
     ]
    }
   ],
   "source": [
    "## 2. Using the print function **<- this is best practice\n",
    "print(a)"
   ]
  },
  {
   "cell_type": "code",
   "execution_count": 7,
   "metadata": {},
   "outputs": [
    {
     "name": "stdout",
     "output_type": "stream",
     "text": [
      "2 3\n"
     ]
    }
   ],
   "source": [
    "## Can print multiple things at once:\n",
    "print(a,b)"
   ]
  },
  {
   "cell_type": "code",
   "execution_count": 8,
   "metadata": {},
   "outputs": [
    {
     "name": "stdout",
     "output_type": "stream",
     "text": [
      "hello world\n"
     ]
    }
   ],
   "source": [
    "## Can print strings as well:\n",
    "print('hello world')"
   ]
  },
  {
   "cell_type": "markdown",
   "metadata": {},
   "source": [
    "## Our first python algorithm:\n",
    "## Problem: Decide if a is even or odd (i.e., is a divisible by 2)"
   ]
  },
  {
   "cell_type": "code",
   "execution_count": 20,
   "metadata": {},
   "outputs": [],
   "source": [
    "## Set a equal to some number\n",
    "a = 27"
   ]
  },
  {
   "cell_type": "code",
   "execution_count": 21,
   "metadata": {},
   "outputs": [
    {
     "name": "stdout",
     "output_type": "stream",
     "text": [
      "a is odd\n"
     ]
    }
   ],
   "source": [
    "#################################\n",
    "## Version 1 of the algorithm: ##\n",
    "#################################\n",
    "\n",
    "\n",
    "## We create a variable, evenorodd, which is the remainder after dividing a by 2:\n",
    "evenorodd = a % 2 ## Or can type np.mod(a,2). Both work the same.\n",
    "\n",
    "## If evenorodd equals 1, a is odd\n",
    "if evenorodd == 1: ## The colon : is the equivalent of the \"then\" statement\n",
    "    print('a is odd')\n",
    "## Otherwise a is even:\n",
    "else:\n",
    "    print('a is even')"
   ]
  },
  {
   "cell_type": "code",
   "execution_count": 22,
   "metadata": {},
   "outputs": [
    {
     "name": "stdout",
     "output_type": "stream",
     "text": [
      "first print statement\n",
      "entered decision structure\n",
      "27\n",
      "a is odd\n"
     ]
    }
   ],
   "source": [
    "#################################\n",
    "## Version 2 of the algorithm: ##\n",
    "#################################\n",
    "\n",
    "## Start off by assuming that a is even:\n",
    "oddprintstatement = 'a is even'\n",
    "print('first print statement')\n",
    "\n",
    "## We create a variable, evenorodd, which is the remainder after dividing a by 2:\n",
    "evenorodd = a % 2 ## Or can type np.mod(a,2). Both work the same.\n",
    "\n",
    "## If evenorodd equals 1, a is odd\n",
    "if evenorodd == 1: ## The colon : is the equivalent of the \"then\" statement\n",
    "    oddprintstatement = 'a is odd'\n",
    "    print('entered decision structure')\n",
    "\n",
    "print(a)\n",
    "print(oddprintstatement)"
   ]
  },
  {
   "cell_type": "markdown",
   "metadata": {},
   "source": [
    "## Arrays and Lists\n",
    "\n",
    "In python, lists store multiple entries of data.\n",
    "\n",
    "With numpy, we can do the same with arrays.\n",
    "\n",
    "Arrays and lists are similar, but not the same. We'll explore these now.\n",
    "\n",
    "\n",
    "Similarities:\n",
    "- Both store data\n",
    "- Both can be used to store any data type (numbers, strings, etc.)\n",
    "- Both can be indexed and iterated through\n",
    "\n",
    "The main difference:\n",
    "- What you can perform on/to them"
   ]
  },
  {
   "cell_type": "code",
   "execution_count": 23,
   "metadata": {},
   "outputs": [
    {
     "name": "stdout",
     "output_type": "stream",
     "text": [
      "[5, 2, 3, 4, 5]\n",
      "[5 2 3 4 5]\n"
     ]
    }
   ],
   "source": [
    "## Difference #1: How we make them\n",
    "## To make a list:\n",
    "mylist = [5,2,3,4,5]\n",
    "print(mylist)\n",
    "\n",
    "## to make an array, we need the package numpy (which we imported above)\n",
    "myarray = np.array([5,2,3,4,5])\n",
    "print(myarray)"
   ]
  },
  {
   "cell_type": "code",
   "execution_count": 24,
   "metadata": {},
   "outputs": [
    {
     "name": "stdout",
     "output_type": "stream",
     "text": [
      "[1.66666667 0.66666667 1.         1.33333333 1.66666667]\n"
     ]
    }
   ],
   "source": [
    "## Difference #2: What we can do perform on them is different.\n",
    "## Example: You can divide an array by 3 and that divides each element by 3:\n",
    "print(myarray/3)"
   ]
  },
  {
   "cell_type": "code",
   "execution_count": 25,
   "metadata": {},
   "outputs": [
    {
     "ename": "TypeError",
     "evalue": "unsupported operand type(s) for /: 'list' and 'int'",
     "output_type": "error",
     "traceback": [
      "\u001b[1;31m---------------------------------------------------------------------------\u001b[0m",
      "\u001b[1;31mTypeError\u001b[0m                                 Traceback (most recent call last)",
      "\u001b[1;32m<ipython-input-25-7e59d3dfab24>\u001b[0m in \u001b[0;36m<module>\u001b[1;34m\u001b[0m\n\u001b[0;32m      1\u001b[0m \u001b[1;31m## This doesn't work with lists:\u001b[0m\u001b[1;33m\u001b[0m\u001b[1;33m\u001b[0m\u001b[1;33m\u001b[0m\u001b[0m\n\u001b[1;32m----> 2\u001b[1;33m \u001b[0mprint\u001b[0m\u001b[1;33m(\u001b[0m\u001b[0mmylist\u001b[0m\u001b[1;33m/\u001b[0m\u001b[1;36m3\u001b[0m\u001b[1;33m)\u001b[0m\u001b[1;33m\u001b[0m\u001b[1;33m\u001b[0m\u001b[0m\n\u001b[0m",
      "\u001b[1;31mTypeError\u001b[0m: unsupported operand type(s) for /: 'list' and 'int'"
     ]
    }
   ],
   "source": [
    "## This doesn't work with lists:\n",
    "print(mylist/3)"
   ]
  },
  {
   "cell_type": "code",
   "execution_count": 26,
   "metadata": {},
   "outputs": [],
   "source": [
    "## Moral of the story: \n",
    "## Cannot perform math elementwise on a list, but can on an array."
   ]
  },
  {
   "cell_type": "code",
   "execution_count": 27,
   "metadata": {},
   "outputs": [
    {
     "name": "stdout",
     "output_type": "stream",
     "text": [
      "['favoritelunch', 5, 3.2, 0.003]\n"
     ]
    }
   ],
   "source": [
    "## Difference #3: Lists can contain elements with different data types, arrays cannot:\n",
    "list2 = ['favoritelunch',5,3.2,3e-3]\n",
    "print(list2)"
   ]
  },
  {
   "cell_type": "code",
   "execution_count": 28,
   "metadata": {},
   "outputs": [
    {
     "name": "stdout",
     "output_type": "stream",
     "text": [
      "['favoritelunch' '5' '3.2' '0.003']\n"
     ]
    }
   ],
   "source": [
    "## Try with an array:\n",
    "array2 = np.array(['favoritelunch',5,3.2,3e-3])\n",
    "print(array2)"
   ]
  },
  {
   "cell_type": "code",
   "execution_count": 29,
   "metadata": {},
   "outputs": [],
   "source": [
    "## Notice the array was saved, but because it wanted all elements to be the same, it converted all of them to strings."
   ]
  },
  {
   "cell_type": "code",
   "execution_count": 30,
   "metadata": {},
   "outputs": [
    {
     "name": "stdout",
     "output_type": "stream",
     "text": [
      "[2, 3, 4, 5, 6, 7]\n"
     ]
    }
   ],
   "source": [
    "## Difference 4: We can add lists together to make a bigger lists; adding arrays adds the elements (doesn't change size of array)\n",
    "## Test it out:\n",
    "## Make 2 lists:\n",
    "list1 = [2,3,4]\n",
    "list2 = [5,6,7]\n",
    "\n",
    "## Add them together:\n",
    "biggerlist = list1 + list2\n",
    "print(biggerlist)"
   ]
  },
  {
   "cell_type": "code",
   "execution_count": 31,
   "metadata": {},
   "outputs": [
    {
     "name": "stdout",
     "output_type": "stream",
     "text": [
      "[ 7  9 11]\n"
     ]
    }
   ],
   "source": [
    "## Do same thing with arrays:\n",
    "array1 = np.array([2,3,4])\n",
    "array2 = np.array([5,6,7])\n",
    "\n",
    "biggerarray = array1 + array2\n",
    "print(biggerarray)"
   ]
  },
  {
   "cell_type": "code",
   "execution_count": 32,
   "metadata": {},
   "outputs": [
    {
     "name": "stdout",
     "output_type": "stream",
     "text": [
      "[2 3 4 5 6 7]\n"
     ]
    }
   ],
   "source": [
    "## Difference 5: Appending to arrays is different than with lists\n",
    "## Noticed above that we can append two lists together by adding them.\n",
    "## We can't do this with arrays\n",
    "\n",
    "## To make a bigger array, np.append:\n",
    "appendedarray = np.append(array1,array2)\n",
    "print(appendedarray)"
   ]
  },
  {
   "cell_type": "code",
   "execution_count": 33,
   "metadata": {},
   "outputs": [
    {
     "data": {
      "text/plain": [
       "array([2, 3, 4, 5, 6, 7])"
      ]
     },
     "execution_count": 33,
     "metadata": {},
     "output_type": "execute_result"
    }
   ],
   "source": [
    "## Difference 6: Arrays can be multidimensional, Lists are 1-dimensional\n",
    "## So can append arrays together either as rows or columns\n",
    "\n",
    "## to append arrays as rows explicitly:\n",
    "np.r_[array1,array2]"
   ]
  },
  {
   "cell_type": "code",
   "execution_count": 34,
   "metadata": {},
   "outputs": [
    {
     "data": {
      "text/plain": [
       "array([[2, 5],\n",
       "       [3, 6],\n",
       "       [4, 7]])"
      ]
     },
     "execution_count": 34,
     "metadata": {},
     "output_type": "execute_result"
    }
   ],
   "source": [
    "## Append them column-wise:\n",
    "np.c_[array1,array2]"
   ]
  },
  {
   "cell_type": "markdown",
   "metadata": {},
   "source": [
    "## The last storage type we'll talk about: Tuples\n",
    "## Similar to above, but they're immutable!\n",
    "\n",
    "## Once we make them, we cannot change the values of their elements."
   ]
  },
  {
   "cell_type": "code",
   "execution_count": 35,
   "metadata": {},
   "outputs": [
    {
     "name": "stdout",
     "output_type": "stream",
     "text": [
      "[2 3 4]\n"
     ]
    }
   ],
   "source": [
    "## Example: Change the first element of array1 to  be 1 instead of 2:\n",
    "print(array1)"
   ]
  },
  {
   "cell_type": "code",
   "execution_count": 36,
   "metadata": {},
   "outputs": [
    {
     "data": {
      "text/plain": [
       "2"
      ]
     },
     "execution_count": 36,
     "metadata": {},
     "output_type": "execute_result"
    }
   ],
   "source": [
    "array1[0]"
   ]
  },
  {
   "cell_type": "code",
   "execution_count": 37,
   "metadata": {},
   "outputs": [
    {
     "name": "stdout",
     "output_type": "stream",
     "text": [
      "[1 3 4]\n"
     ]
    }
   ],
   "source": [
    "## change the value of the first element:\n",
    "array1[0] = 1\n",
    "print(array1)"
   ]
  },
  {
   "cell_type": "code",
   "execution_count": 38,
   "metadata": {},
   "outputs": [
    {
     "name": "stdout",
     "output_type": "stream",
     "text": [
      "(2, 3, 4)\n"
     ]
    }
   ],
   "source": [
    "## With a tuple, we make them with parentheses (not brackets)\n",
    "tuple1 = (2,3,4)\n",
    "print(tuple1)"
   ]
  },
  {
   "cell_type": "code",
   "execution_count": 39,
   "metadata": {},
   "outputs": [
    {
     "data": {
      "text/plain": [
       "2"
      ]
     },
     "execution_count": 39,
     "metadata": {},
     "output_type": "execute_result"
    }
   ],
   "source": [
    "tuple1[0]"
   ]
  },
  {
   "cell_type": "code",
   "execution_count": 40,
   "metadata": {},
   "outputs": [
    {
     "ename": "TypeError",
     "evalue": "'tuple' object does not support item assignment",
     "output_type": "error",
     "traceback": [
      "\u001b[1;31m---------------------------------------------------------------------------\u001b[0m",
      "\u001b[1;31mTypeError\u001b[0m                                 Traceback (most recent call last)",
      "\u001b[1;32m<ipython-input-40-b95b1785d8c1>\u001b[0m in \u001b[0;36m<module>\u001b[1;34m\u001b[0m\n\u001b[0;32m      1\u001b[0m \u001b[1;31m## Try and change the first element:\u001b[0m\u001b[1;33m\u001b[0m\u001b[1;33m\u001b[0m\u001b[1;33m\u001b[0m\u001b[0m\n\u001b[1;32m----> 2\u001b[1;33m \u001b[0mtuple1\u001b[0m\u001b[1;33m[\u001b[0m\u001b[1;36m0\u001b[0m\u001b[1;33m]\u001b[0m \u001b[1;33m=\u001b[0m \u001b[1;36m1\u001b[0m\u001b[1;33m\u001b[0m\u001b[1;33m\u001b[0m\u001b[0m\n\u001b[0m\u001b[0;32m      3\u001b[0m \u001b[0mprint\u001b[0m\u001b[1;33m(\u001b[0m\u001b[0mtuple1\u001b[0m\u001b[1;33m)\u001b[0m\u001b[1;33m\u001b[0m\u001b[1;33m\u001b[0m\u001b[0m\n",
      "\u001b[1;31mTypeError\u001b[0m: 'tuple' object does not support item assignment"
     ]
    }
   ],
   "source": [
    "## Try and change the first element:\n",
    "tuple1[0] = 1\n",
    "print(tuple1)"
   ]
  },
  {
   "cell_type": "markdown",
   "metadata": {},
   "source": [
    "## Everyone's favorite: indexing\n",
    "\n",
    "The \"index\" of an array, list or tuple is the location that a certain element or value is stored in.\n",
    "\n",
    "To play with this, we're goin to make a list to represent lunchboxes."
   ]
  },
  {
   "cell_type": "code",
   "execution_count": 41,
   "metadata": {},
   "outputs": [
    {
     "name": "stdout",
     "output_type": "stream",
     "text": [
      "['cheetos', 'apples', 'leftovers', 'gushers', 'sandwich', 'chicken', 'coffee', 'burrito']\n"
     ]
    }
   ],
   "source": [
    "lunchboxes = ['cheetos','apples','leftovers','gushers','sandwich','chicken','coffee','burrito']\n",
    "print(lunchboxes)"
   ]
  },
  {
   "cell_type": "code",
   "execution_count": 42,
   "metadata": {},
   "outputs": [
    {
     "data": {
      "text/plain": [
       "'gushers'"
      ]
     },
     "execution_count": 42,
     "metadata": {},
     "output_type": "execute_result"
    }
   ],
   "source": [
    "## NOTE: Python starts counting at 0.\n",
    "## A normal person might say they want the contents of the third lunchbox for lunch...\n",
    "lunchboxes[3]"
   ]
  },
  {
   "cell_type": "code",
   "execution_count": 43,
   "metadata": {},
   "outputs": [
    {
     "data": {
      "text/plain": [
       "'leftovers'"
      ]
     },
     "execution_count": 43,
     "metadata": {},
     "output_type": "execute_result"
    }
   ],
   "source": [
    "## That actually asked for the thing in the 4th lunchbox, we want the third:\n",
    "lunchboxes[2]"
   ]
  },
  {
   "cell_type": "code",
   "execution_count": 44,
   "metadata": {},
   "outputs": [
    {
     "data": {
      "text/plain": [
       "8"
      ]
     },
     "execution_count": 44,
     "metadata": {},
     "output_type": "execute_result"
    }
   ],
   "source": [
    "## What if someone asks you how many lunchboxes you have?\n",
    "## We want the \"length\" of the list, use \"len\"\n",
    "len(lunchboxes)"
   ]
  },
  {
   "cell_type": "code",
   "execution_count": 45,
   "metadata": {},
   "outputs": [
    {
     "ename": "IndexError",
     "evalue": "list index out of range",
     "output_type": "error",
     "traceback": [
      "\u001b[1;31m---------------------------------------------------------------------------\u001b[0m",
      "\u001b[1;31mIndexError\u001b[0m                                Traceback (most recent call last)",
      "\u001b[1;32m<ipython-input-45-54878cad40e2>\u001b[0m in \u001b[0;36m<module>\u001b[1;34m\u001b[0m\n\u001b[0;32m      1\u001b[0m \u001b[1;31m## will this run?\u001b[0m\u001b[1;33m\u001b[0m\u001b[1;33m\u001b[0m\u001b[1;33m\u001b[0m\u001b[0m\n\u001b[1;32m----> 2\u001b[1;33m \u001b[0mlunchboxes\u001b[0m\u001b[1;33m[\u001b[0m\u001b[1;36m8\u001b[0m\u001b[1;33m]\u001b[0m\u001b[1;33m\u001b[0m\u001b[1;33m\u001b[0m\u001b[0m\n\u001b[0m",
      "\u001b[1;31mIndexError\u001b[0m: list index out of range"
     ]
    }
   ],
   "source": [
    "## will this run?\n",
    "lunchboxes[8]"
   ]
  },
  {
   "cell_type": "code",
   "execution_count": 47,
   "metadata": {},
   "outputs": [
    {
     "name": "stdout",
     "output_type": "stream",
     "text": [
      "burrito\n",
      "burrito\n"
     ]
    }
   ],
   "source": [
    "## If I want the last lunchbox:\n",
    "print(lunchboxes[7])\n",
    "print(lunchboxes[-1])"
   ]
  },
  {
   "cell_type": "code",
   "execution_count": 49,
   "metadata": {},
   "outputs": [
    {
     "data": {
      "text/plain": [
       "['apples', 'leftovers']"
      ]
     },
     "execution_count": 49,
     "metadata": {},
     "output_type": "execute_result"
    }
   ],
   "source": [
    "## What if I want the second through fourth lunchboxes?\n",
    "lunchboxes[1:3] ## this will give me the second and third, but not fourth (index = 3)"
   ]
  },
  {
   "cell_type": "code",
   "execution_count": 50,
   "metadata": {},
   "outputs": [
    {
     "data": {
      "text/plain": [
       "['apples', 'leftovers', 'gushers']"
      ]
     },
     "execution_count": 50,
     "metadata": {},
     "output_type": "execute_result"
    }
   ],
   "source": [
    "## We actually have to do:\n",
    "lunchboxes[1:4]"
   ]
  },
  {
   "cell_type": "code",
   "execution_count": null,
   "metadata": {},
   "outputs": [],
   "source": []
  }
 ],
 "metadata": {
  "kernelspec": {
   "display_name": "Python 3",
   "language": "python",
   "name": "python3"
  },
  "language_info": {
   "codemirror_mode": {
    "name": "ipython",
    "version": 3
   },
   "file_extension": ".py",
   "mimetype": "text/x-python",
   "name": "python",
   "nbconvert_exporter": "python",
   "pygments_lexer": "ipython3",
   "version": "3.7.4"
  }
 },
 "nbformat": 4,
 "nbformat_minor": 2
}
