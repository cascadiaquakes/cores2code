{
 "cells": [
  {
   "cell_type": "markdown",
   "metadata": {},
   "source": [
    "## Testing algorithms to decide if a number is prime\n",
    "april 25th, 2022"
   ]
  },
  {
   "cell_type": "code",
   "execution_count": 14,
   "metadata": {},
   "outputs": [],
   "source": [
    "x = 27"
   ]
  },
  {
   "cell_type": "code",
   "execution_count": 19,
   "metadata": {},
   "outputs": [
    {
     "name": "stdout",
     "output_type": "stream",
     "text": [
      "2\n",
      "3\n",
      "27  is not a prime number\n"
     ]
    }
   ],
   "source": [
    "\n",
    "if x > 1:\n",
    "    for i in range(2,int(x/2)+1):\n",
    "        print(i)\n",
    "        if x % i == 0 :\n",
    "            print(x,' is not a prime number')\n",
    "            break\n",
    "    else:\n",
    "        print(x,' is a prime number')\n",
    "else:\n",
    "    print(x, 'is a prime number')"
   ]
  },
  {
   "cell_type": "code",
   "execution_count": 20,
   "metadata": {},
   "outputs": [],
   "source": [
    "19/2\n"
   ]
  },
  {
   "cell_type": "code",
   "execution_count": 24,
   "metadata": {},
   "outputs": [
    {
     "name": "stdout",
     "output_type": "stream",
     "text": [
      "0\n",
      "1\n",
      "i is greater than 0\n",
      "6 is divisible by i, add to counter\n",
      "2\n",
      "i is greater than 0\n",
      "6 is divisible by i, add to counter\n",
      "3\n",
      "i is greater than 0\n",
      "6 is divisible by i, add to counter\n",
      "4\n",
      "i is greater than 0\n",
      "5\n",
      "i is greater than 0\n",
      "6\n",
      "i is greater than 0\n",
      "6 is divisible by i, add to counter\n",
      "6  is not prime\n"
     ]
    }
   ],
   "source": [
    "x = 6\n",
    "\n",
    "count = 0\n",
    "for i in range(x+1):\n",
    "    print(i)\n",
    "    if i > 0:\n",
    "        print('i is greater than 0')\n",
    "        if x % i == 0:\n",
    "            print(x, 'is divisible by i, add to counter')\n",
    "            count+=1\n",
    "if (count > 2) or (count == 1):\n",
    "    print(x,' is not prime')\n",
    "else:\n",
    "    print(x,' is prime')"
   ]
  },
  {
   "cell_type": "code",
   "execution_count": 28,
   "metadata": {},
   "outputs": [
    {
     "name": "stdout",
     "output_type": "stream",
     "text": [
      "2\n",
      "isnumberprime is  False\n"
     ]
    }
   ],
   "source": [
    "## Function:\n",
    "def isPrime(num):\n",
    "    if num == 1:\n",
    "        print('number is 1')\n",
    "        return False\n",
    "    for i in range(2,num):\n",
    "        print(i)\n",
    "        if num % i == 0:\n",
    "            return False\n",
    "    return True\n",
    "\n",
    "\n",
    "x = 12\n",
    "isnumberprime = isPrime(x)\n",
    "\n",
    "print('isnumberprime is ',isnumberprime)"
   ]
  },
  {
   "cell_type": "code",
   "execution_count": 60,
   "metadata": {},
   "outputs": [
    {
     "name": "stdout",
     "output_type": "stream",
     "text": [
      "6  is prime\n"
     ]
    }
   ],
   "source": [
    "import numpy as np\n",
    "## last alternative:\n",
    "## define number\n",
    "p = 6\n",
    "\n",
    "## Start algorithm:\n",
    "prime = True\n",
    "for potential_divisor_i in range(2,int(p**0.5)):\n",
    "    if p % potential_divisor_i == 0:\n",
    "        prime = False\n",
    "        break\n",
    "        \n",
    "if prime:\n",
    "    print(p,' is prime')\n",
    "else:\n",
    "    print(p,' is not prime')"
   ]
  },
  {
   "cell_type": "code",
   "execution_count": 61,
   "metadata": {},
   "outputs": [
    {
     "data": {
      "text/plain": [
       "2"
      ]
     },
     "execution_count": 61,
     "metadata": {},
     "output_type": "execute_result"
    }
   ],
   "source": [
    "int(p**0.5)"
   ]
  },
  {
   "cell_type": "code",
   "execution_count": 64,
   "metadata": {},
   "outputs": [
    {
     "data": {
      "text/plain": [
       "array([0])"
      ]
     },
     "execution_count": 64,
     "metadata": {},
     "output_type": "execute_result"
    }
   ],
   "source": []
  },
  {
   "cell_type": "code",
   "execution_count": null,
   "metadata": {},
   "outputs": [],
   "source": []
  }
 ],
 "metadata": {
  "kernelspec": {
   "display_name": "Python 3",
   "language": "python",
   "name": "python3"
  },
  "language_info": {
   "codemirror_mode": {
    "name": "ipython",
    "version": 3
   },
   "file_extension": ".py",
   "mimetype": "text/x-python",
   "name": "python",
   "nbconvert_exporter": "python",
   "pygments_lexer": "ipython3",
   "version": "3.7.4"
  }
 },
 "nbformat": 4,
 "nbformat_minor": 2
}
