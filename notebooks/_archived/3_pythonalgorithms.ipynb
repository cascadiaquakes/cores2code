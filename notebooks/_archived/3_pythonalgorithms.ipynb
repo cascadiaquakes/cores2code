{
 "cells": [
  {
   "cell_type": "markdown",
   "metadata": {},
   "source": [
    "## Trying out some algorithms with what we learned\n",
    "ERTH 363\n",
    "\n",
    "Week 3, Class 2\n",
    "\n",
    "April 13th, 2022"
   ]
  },
  {
   "cell_type": "code",
   "execution_count": 1,
   "metadata": {},
   "outputs": [],
   "source": [
    "## Import numpy\n",
    "import numpy as np"
   ]
  },
  {
   "cell_type": "markdown",
   "metadata": {},
   "source": [
    "## First Algorithm:\n",
    "\n",
    "For a list of numbers, find the first 2 numbers that are divisible by 5, and print them to the screen."
   ]
  },
  {
   "cell_type": "code",
   "execution_count": 8,
   "metadata": {},
   "outputs": [
    {
     "name": "stdout",
     "output_type": "stream",
     "text": [
      "Number i is  2\n",
      "Entered decision structure for counter\n",
      "Number i is  3\n",
      "Entered decision structure for counter\n",
      "Number i is  5\n",
      "Entered decision structure for counter\n",
      "Number is a multiple of 5\n",
      "5\n",
      "addin to counter\n",
      "Number i is  6\n",
      "Entered decision structure for counter\n",
      "Number i is  10\n",
      "Entered decision structure for counter\n",
      "Number is a multiple of 5\n",
      "10\n",
      "addin to counter\n",
      "Number i is  9\n",
      "Number i is  8\n",
      "Number i is  15\n",
      "Number i is  2\n",
      "Number i is  8\n",
      "Number i is  10\n"
     ]
    }
   ],
   "source": [
    "## Set up the list:\n",
    "randomnumbers = [2,3,5,6,10,9,8,15,2,8,10]\n",
    "\n",
    "## Start a counter that will keep track of the number of multiples of 5 we find\n",
    "counter = 0\n",
    "\n",
    "## Loop through every number in the list \"randomnumbers\"\n",
    "for number_i in randomnumbers:\n",
    "    print('Number i is ', np.str(number_i))\n",
    "    ## If we have found less than two multiples of 5..\n",
    "    if counter < 2:\n",
    "        print('Entered decision structure for counter')\n",
    "        ## If the number is divisible by 5, it's a multiple of 5:\n",
    "        if number_i % 5 == 0:\n",
    "            print('Number is a multiple of 5')\n",
    "            ## Print it to the screen\n",
    "            print(number_i)\n",
    "            ## Add to the counter to indicate how many multiples of 5 it has found\n",
    "            print('adding to counter')\n",
    "            counter+=1 ## Same thing as typing counter = counter + 1"
   ]
  },
  {
   "cell_type": "markdown",
   "metadata": {},
   "source": [
    "## Homework #2 Practice\n",
    "\n",
    "Practice Question 5:\n",
    "Write a python program using a for loop to find the sum of all even numbers from 0 to 100 \n",
    "(5 pts) "
   ]
  },
  {
   "cell_type": "code",
   "execution_count": 12,
   "metadata": {},
   "outputs": [
    {
     "name": "stdout",
     "output_type": "stream",
     "text": [
      "[  0   1   2   3   4   5   6   7   8   9  10  11  12  13  14  15  16  17\n",
      "  18  19  20  21  22  23  24  25  26  27  28  29  30  31  32  33  34  35\n",
      "  36  37  38  39  40  41  42  43  44  45  46  47  48  49  50  51  52  53\n",
      "  54  55  56  57  58  59  60  61  62  63  64  65  66  67  68  69  70  71\n",
      "  72  73  74  75  76  77  78  79  80  81  82  83  84  85  86  87  88  89\n",
      "  90  91  92  93  94  95  96  97  98  99 100]\n",
      "[  0   1   2   3   4   5   6   7   8   9  10  11  12  13  14  15  16  17\n",
      "  18  19  20  21  22  23  24  25  26  27  28  29  30  31  32  33  34  35\n",
      "  36  37  38  39  40  41  42  43  44  45  46  47  48  49  50  51  52  53\n",
      "  54  55  56  57  58  59  60  61  62  63  64  65  66  67  68  69  70  71\n",
      "  72  73  74  75  76  77  78  79  80  81  82  83  84  85  86  87  88  89\n",
      "  90  91  92  93  94  95  96  97  98  99 100]\n",
      "range(0, 101)\n",
      "0\n",
      "1\n",
      "2\n",
      "3\n",
      "4\n",
      "5\n",
      "6\n",
      "7\n",
      "8\n",
      "9\n",
      "10\n",
      "11\n",
      "12\n",
      "13\n",
      "14\n",
      "15\n",
      "16\n",
      "17\n",
      "18\n",
      "19\n",
      "20\n",
      "21\n",
      "22\n",
      "23\n",
      "24\n",
      "25\n",
      "26\n",
      "27\n",
      "28\n",
      "29\n",
      "30\n",
      "31\n",
      "32\n",
      "33\n",
      "34\n",
      "35\n",
      "36\n",
      "37\n",
      "38\n",
      "39\n",
      "40\n",
      "41\n",
      "42\n",
      "43\n",
      "44\n",
      "45\n",
      "46\n",
      "47\n",
      "48\n",
      "49\n",
      "50\n",
      "51\n",
      "52\n",
      "53\n",
      "54\n",
      "55\n",
      "56\n",
      "57\n",
      "58\n",
      "59\n",
      "60\n",
      "61\n",
      "62\n",
      "63\n",
      "64\n",
      "65\n",
      "66\n",
      "67\n",
      "68\n",
      "69\n",
      "70\n",
      "71\n",
      "72\n",
      "73\n",
      "74\n",
      "75\n",
      "76\n",
      "77\n",
      "78\n",
      "79\n",
      "80\n",
      "81\n",
      "82\n",
      "83\n",
      "84\n",
      "85\n",
      "86\n",
      "87\n",
      "88\n",
      "89\n",
      "90\n",
      "91\n",
      "92\n",
      "93\n",
      "94\n",
      "95\n",
      "96\n",
      "97\n",
      "98\n",
      "99\n",
      "100\n"
     ]
    }
   ],
   "source": [
    "## For this, we want an array or a list that has the number 0 through 100 in it to loop over.\n",
    "\n",
    "## To make an array, use np.arange:\n",
    "## Always look online for documentation for functions!\n",
    "# https://numpy.org/doc/stable/reference/generated/numpy.arange.html\n",
    "numbersto100 = np.arange(101)\n",
    "print(numbersto100)\n",
    "\n",
    "## Alternative array:\n",
    "altarray = np.arange(0,101,1)\n",
    "print(altarray)\n",
    "\n",
    "## We can also do this with the built in python range function,\n",
    "## get an object instead of an array:\n",
    "list100 = range(101)\n",
    "print(list100)\n",
    "\n",
    "## If we try and loop over list100:\n",
    "for i in list100:\n",
    "    print(i)"
   ]
  },
  {
   "cell_type": "markdown",
   "metadata": {},
   "source": [
    "Practice Question 6.  Write a python program that use a for loop and an if-else statement to find the largest \n",
    "value in a list or an array of numbers. Show the output works for the following list (10pts): \n",
    " \n",
    "    [-1,-6.5,0,8.8,5.6,-8.7,9.0,1.3] "
   ]
  },
  {
   "cell_type": "code",
   "execution_count": 17,
   "metadata": {},
   "outputs": [
    {
     "name": "stdout",
     "output_type": "stream",
     "text": [
      "9.0\n"
     ]
    }
   ],
   "source": [
    "## Define the list we are using:\n",
    "maxlist = [-1,-6.5,0,8.8,5.6,-8.7,9.0,1.3] \n",
    "#maxlist = [-1,-2,-3]\n",
    "\n",
    "## Make a list/array that represents the indices of our actual list of interest:\n",
    "indexlist = np.arange(len(maxlist))\n",
    "\n",
    "## Loop through the index list:\n",
    "for index_i in indexlist:\n",
    "    ## If we are on the first item (0th position) in the list, set our maximum value to be that first item:\n",
    "    if index_i == 0:\n",
    "        ## Set max value:\n",
    "        maxvalue = maxlist[index_i]\n",
    "    else:\n",
    "        ## If the value of maxlist at this next index position is bigger than our previously set maximum value,\n",
    "        ## we have a new max value\n",
    "        if maxlist[index_i] > maxvalue:\n",
    "            ## then we change maxvalue to be the value of our new maximum:\n",
    "            maxvalue = maxlist[index_i]\n",
    "            \n",
    "print(maxvalue)\n"
   ]
  },
  {
   "cell_type": "code",
   "execution_count": null,
   "metadata": {},
   "outputs": [],
   "source": []
  }
 ],
 "metadata": {
  "kernelspec": {
   "display_name": "Python 3",
   "language": "python",
   "name": "python3"
  },
  "language_info": {
   "codemirror_mode": {
    "name": "ipython",
    "version": 3
   },
   "file_extension": ".py",
   "mimetype": "text/x-python",
   "name": "python",
   "nbconvert_exporter": "python",
   "pygments_lexer": "ipython3",
   "version": "3.7.4"
  }
 },
 "nbformat": 4,
 "nbformat_minor": 2
}
