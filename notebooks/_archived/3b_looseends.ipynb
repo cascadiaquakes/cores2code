{
 "cells": [
  {
   "cell_type": "markdown",
   "metadata": {},
   "source": [
    "# Loose Ends - Python Syntax\n",
    "\n",
    "Covering some remaining items that didn't fit in last time\n",
    "\n",
    "Monday, April 18th 2022"
   ]
  },
  {
   "cell_type": "code",
   "execution_count": 1,
   "metadata": {},
   "outputs": [],
   "source": [
    "import numpy as np"
   ]
  },
  {
   "cell_type": "markdown",
   "metadata": {},
   "source": [
    "## Python Arithmetic and Assignment Operators\n",
    "\n",
    "We talked about some of these arithmetic operators already: addition (+), subtraction (-), multiplication (*),  division (/), power of (**), Modulo (%), Floor division (//)\n",
    "\n",
    "There are also assignment operators. We talked about the equal sign: =\n",
    "\n",
    "There are a few other useful ones!"
   ]
  },
  {
   "cell_type": "code",
   "execution_count": 2,
   "metadata": {},
   "outputs": [
    {
     "name": "stdout",
     "output_type": "stream",
     "text": [
      "5\n",
      "6\n"
     ]
    }
   ],
   "source": [
    "## An example is adding to an existing identifier or variable\n",
    "x = 5\n",
    "print(x)\n",
    "\n",
    "x+=1  ## This is essentially the same as saying x = x+1\n",
    "print(x)"
   ]
  },
  {
   "cell_type": "markdown",
   "metadata": {},
   "source": [
    "There are a bunch of others like this:\n",
    "\n",
    "subtract (-=), multiply (*=), divide (/=), power to (**=), modulo (%=), floor division (//=)"
   ]
  },
  {
   "cell_type": "code",
   "execution_count": 3,
   "metadata": {},
   "outputs": [],
   "source": [
    "## Example of the modulo one:\n",
    "x%=3 ## This is like saying x % 3"
   ]
  },
  {
   "cell_type": "markdown",
   "metadata": {},
   "source": [
    "## Decision Structures\n",
    "\n",
    "We talked about using if - but didn't really talk about the if, elif, else sequence.\n",
    "\n",
    "When using if and elif (else if), need to specify a condition; else implies every other condition or state that has not been specified yet in the decision structure."
   ]
  },
  {
   "cell_type": "markdown",
   "metadata": {},
   "source": [
    "## In / Not In a list or array or string\n",
    "\n",
    "Sometimes want to know if a certain value is in a list, array, or string.\n",
    "\n",
    "We could loop over it to figure this out, or we could use the in/not in syntax. Check it out:"
   ]
  },
  {
   "cell_type": "code",
   "execution_count": 4,
   "metadata": {},
   "outputs": [
    {
     "name": "stdout",
     "output_type": "stream",
     "text": [
      "found a 5\n"
     ]
    }
   ],
   "source": [
    "mylist = [0,5,2,13,105]\n",
    "\n",
    "## I want to print \"found a 5\" if there is a 5 in the list:\n",
    "if 5 in mylist:\n",
    "    print('found a 5')"
   ]
  },
  {
   "cell_type": "code",
   "execution_count": 5,
   "metadata": {},
   "outputs": [
    {
     "name": "stdout",
     "output_type": "stream",
     "text": [
      "no 3 present\n"
     ]
    }
   ],
   "source": [
    "## Can also use it to decide if some variable is not present:\n",
    "if 3 not in mylist:\n",
    "    print('no 3 present')"
   ]
  },
  {
   "cell_type": "code",
   "execution_count": 7,
   "metadata": {},
   "outputs": [
    {
     "name": "stdout",
     "output_type": "stream",
     "text": [
      "there is an a\n"
     ]
    }
   ],
   "source": [
    "teststring = 'cantremember'\n",
    "if 'a' in teststring:\n",
    "    print('there is an a')"
   ]
  },
  {
   "cell_type": "markdown",
   "metadata": {},
   "source": [
    "## Speaking of strings...\n",
    "\n",
    "Can add strings together, by appending together."
   ]
  },
  {
   "cell_type": "code",
   "execution_count": 8,
   "metadata": {},
   "outputs": [
    {
     "name": "stdout",
     "output_type": "stream",
     "text": [
      "homework\n"
     ]
    }
   ],
   "source": [
    "firstword = 'home'\n",
    "secondword = 'work'\n",
    "\n",
    "bigword = firstword+secondword\n",
    "print(bigword)"
   ]
  },
  {
   "cell_type": "markdown",
   "metadata": {},
   "source": [
    "## Exiting/Continuing Loops\n",
    "\n",
    "What if we want to exit a loop without running the whole thing? \n",
    "\n",
    "We can use the \"break\" command."
   ]
  },
  {
   "cell_type": "code",
   "execution_count": 9,
   "metadata": {},
   "outputs": [
    {
     "name": "stdout",
     "output_type": "stream",
     "text": [
      "m\n",
      "y\n",
      "s\n",
      "t\n",
      "r\n",
      "The end\n"
     ]
    }
   ],
   "source": [
    "## What if we wanted to print when there is an i in a string, but then stop looping over \n",
    "##  the elements/letters in the string once we find the i?\n",
    "\n",
    "for value in 'mystring':\n",
    "    if value == 'i':\n",
    "        break\n",
    "    print(value)\n",
    "    \n",
    "print('The end')"
   ]
  },
  {
   "cell_type": "code",
   "execution_count": 11,
   "metadata": {},
   "outputs": [
    {
     "name": "stdout",
     "output_type": "stream",
     "text": [
      "m\n",
      "y\n",
      "s\n",
      "t\n",
      "r\n",
      "n\n",
      "g\n",
      "The end\n"
     ]
    }
   ],
   "source": [
    "## Can also use continue - put it in place of break above to see what happens:\n",
    "for value in 'mystring':\n",
    "    if value == 'i':\n",
    "        continue\n",
    "    print(value)\n",
    "    \n",
    "print('The end')\n",
    "\n",
    "## It skips over the remaining steps in the loop, but still moves on to the next item in the loop."
   ]
  },
  {
   "cell_type": "code",
   "execution_count": null,
   "metadata": {},
   "outputs": [],
   "source": []
  }
 ],
 "metadata": {
  "kernelspec": {
   "display_name": "Python 3",
   "language": "python",
   "name": "python3"
  },
  "language_info": {
   "codemirror_mode": {
    "name": "ipython",
    "version": 3
   },
   "file_extension": ".py",
   "mimetype": "text/x-python",
   "name": "python",
   "nbconvert_exporter": "python",
   "pygments_lexer": "ipython3",
   "version": "3.7.4"
  }
 },
 "nbformat": 4,
 "nbformat_minor": 2
}
