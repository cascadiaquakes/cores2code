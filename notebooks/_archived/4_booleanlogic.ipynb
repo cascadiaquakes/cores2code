{
 "cells": [
  {
   "cell_type": "markdown",
   "metadata": {},
   "source": [
    "## Boolean Logic / Logical Operators\n",
    "\n",
    "Week 4, Class 1: Logical Operators\n",
    "\n",
    "Monday, April 18th, 2022\n",
    "\n",
    "Testing out the boolean logic we just did on the whiteboard"
   ]
  },
  {
   "cell_type": "code",
   "execution_count": 1,
   "metadata": {},
   "outputs": [],
   "source": [
    "import numpy as np"
   ]
  },
  {
   "cell_type": "markdown",
   "metadata": {},
   "source": [
    "We're going to try some examples of Boolean logic/operators within arrays.\n",
    "\n",
    "Make an array called \"numbers\""
   ]
  },
  {
   "cell_type": "code",
   "execution_count": 8,
   "metadata": {},
   "outputs": [
    {
     "name": "stdout",
     "output_type": "stream",
     "text": [
      "[ 9 20 19 34  6 30 35 27 19 11 22  6 22 29 11]\n"
     ]
    }
   ],
   "source": [
    "## Make an array and populate it with some numbers:\n",
    "numbers = np.random.randint(1,40,15)\n",
    "\n",
    "print(numbers)"
   ]
  },
  {
   "cell_type": "code",
   "execution_count": 9,
   "metadata": {},
   "outputs": [
    {
     "name": "stdout",
     "output_type": "stream",
     "text": [
      "9\n",
      "20\n",
      "19\n",
      "34\n",
      "6\n",
      "30\n",
      "35\n",
      "27\n",
      "19\n",
      "11\n",
      "22\n",
      "6\n",
      "22\n",
      "29\n",
      "11\n"
     ]
    }
   ],
   "source": [
    "## If I wanted to print every number - will go through one by one, and print all 15 eventually:\n",
    "for elementi in numbers:\n",
    "    print(elementi)"
   ]
  },
  {
   "cell_type": "code",
   "execution_count": 10,
   "metadata": {},
   "outputs": [
    {
     "name": "stdout",
     "output_type": "stream",
     "text": [
      "9\n",
      "19\n",
      "19\n",
      "11\n",
      "11\n"
     ]
    }
   ],
   "source": [
    "## I want to loop through and only print when the element is between 7 and 20? (not equal to 7 or 20):\n",
    "for elementi in numbers:\n",
    "    if elementi>7 and elementi<20:\n",
    "        print(elementi)"
   ]
  },
  {
   "cell_type": "code",
   "execution_count": 12,
   "metadata": {},
   "outputs": [
    {
     "name": "stdout",
     "output_type": "stream",
     "text": [
      "34\n",
      "6\n",
      "30\n",
      "35\n",
      "27\n",
      "22\n",
      "6\n",
      "22\n",
      "29\n"
     ]
    }
   ],
   "source": [
    "## What if I wanted to print the edges? (Stuff less than 7 and greater than 20)\n",
    "for elementi in numbers:\n",
    "    if elementi<7 or elementi>20:\n",
    "        print(elementi)\n",
    "        \n",
    "## We can't use \"and\" because nothing is simultaneousl less than 7 AND greater than 20."
   ]
  },
  {
   "cell_type": "markdown",
   "metadata": {},
   "source": [
    "## Bitwise Operators\n",
    "\n",
    "We just used \"and\" and \"or\" - logical operators\n",
    "\n",
    "There are also \"bitwise operators\", performing operations on bytes/binary number.\n",
    "\n",
    "These operators are <, >, & (and), | (or), ~ (not)\n",
    "\n",
    "For more info: https://wiki.python.org/moin/BitwiseOperators"
   ]
  },
  {
   "cell_type": "code",
   "execution_count": 13,
   "metadata": {},
   "outputs": [
    {
     "data": {
      "text/plain": [
       "array([ True,  True,  True,  True, False,  True,  True,  True,  True,\n",
       "        True,  True, False,  True,  True,  True])"
      ]
     },
     "execution_count": 13,
     "metadata": {},
     "output_type": "execute_result"
    }
   ],
   "source": [
    "## What if instead of looping, I wanted to do the above statements in one go?\n",
    "\n",
    "## If I wanted to prin everything > 7 in the array:\n",
    "numbers > 7"
   ]
  },
  {
   "cell_type": "code",
   "execution_count": 14,
   "metadata": {},
   "outputs": [
    {
     "name": "stdout",
     "output_type": "stream",
     "text": [
      "[ 9 20 19 34  6 30 35 27 19 11 22  6 22 29 11]\n"
     ]
    }
   ],
   "source": [
    "print(numbers)"
   ]
  },
  {
   "cell_type": "code",
   "execution_count": 15,
   "metadata": {},
   "outputs": [
    {
     "data": {
      "text/plain": [
       "dtype('bool')"
      ]
     },
     "execution_count": 15,
     "metadata": {},
     "output_type": "execute_result"
    }
   ],
   "source": [
    "## Note: These are not strings! They are boolean data types.\n",
    "## Can check this by using the dtype function, which asks what type of data the value is\n",
    "(numbers>7).dtype"
   ]
  },
  {
   "cell_type": "code",
   "execution_count": 16,
   "metadata": {},
   "outputs": [
    {
     "data": {
      "text/plain": [
       "array([ True, False,  True, False, False, False, False, False,  True,\n",
       "        True, False, False, False, False,  True])"
      ]
     },
     "execution_count": 16,
     "metadata": {},
     "output_type": "execute_result"
    }
   ],
   "source": [
    "## We can combine them, using the bitwise operator:\n",
    "(numbers > 7) & (numbers < 20)  ## bitwise \"and\""
   ]
  },
  {
   "cell_type": "code",
   "execution_count": 17,
   "metadata": {},
   "outputs": [
    {
     "data": {
      "text/plain": [
       "array([False, False, False,  True,  True,  True,  True,  True, False,\n",
       "       False,  True,  True,  True,  True, False])"
      ]
     },
     "execution_count": 17,
     "metadata": {},
     "output_type": "execute_result"
    }
   ],
   "source": [
    "## We can do the same with or like we did above:\n",
    "(numbers <7) | (numbers > 20)"
   ]
  },
  {
   "cell_type": "markdown",
   "metadata": {},
   "source": [
    "We can use these boolean values with the original array, to get the values in the array themselves that match our conditions. \n",
    "\n",
    "To do this, we use the boolean array as an index array.\n",
    "\n",
    "Try it out:"
   ]
  },
  {
   "cell_type": "code",
   "execution_count": 18,
   "metadata": {},
   "outputs": [
    {
     "name": "stdout",
     "output_type": "stream",
     "text": [
      "[ True False  True False False False False False  True  True False False\n",
      " False False  True]\n",
      "[ 9 19 19 11 11]\n"
     ]
    }
   ],
   "source": [
    "## Let's put this boolean array into a variable:\n",
    "booleanresult = (numbers > 7) & (numbers < 20)\n",
    "\n",
    "print(booleanresult)\n",
    "\n",
    "print(numbers[booleanresult])"
   ]
  },
  {
   "cell_type": "code",
   "execution_count": 19,
   "metadata": {},
   "outputs": [
    {
     "name": "stdout",
     "output_type": "stream",
     "text": [
      "[False False False  True  True  True  True  True False False  True  True\n",
      "  True  True False]\n",
      "[34  6 30 35 27 22  6 22 29]\n"
     ]
    }
   ],
   "source": [
    "## Try for or:\n",
    "booleanresult2 = (numbers <7) | (numbers > 20)\n",
    "\n",
    "print(booleanresult2)\n",
    "print(numbers[booleanresult2])"
   ]
  },
  {
   "cell_type": "code",
   "execution_count": 21,
   "metadata": {},
   "outputs": [
    {
     "name": "stdout",
     "output_type": "stream",
     "text": [
      "13\n"
     ]
    }
   ],
   "source": [
    "## Try for not equal:\n",
    "\n",
    "booleanresult3 = (numbers != 19)\n",
    "numbers[booleanresult3]\n",
    "print(len(numbers[booleanresult3]))"
   ]
  },
  {
   "cell_type": "markdown",
   "metadata": {},
   "source": [
    "## Numpy's \"Where\" Function\n",
    "\n",
    "The last thing here is the \"where\" function in numpy, to find where in an array a condition is met."
   ]
  },
  {
   "cell_type": "code",
   "execution_count": 24,
   "metadata": {},
   "outputs": [
    {
     "data": {
      "text/plain": [
       "(array([ 4, 11], dtype=int64),)"
      ]
     },
     "execution_count": 24,
     "metadata": {},
     "output_type": "execute_result"
    }
   ],
   "source": [
    "## What if I wanted to find the index where numbers == 6?\n",
    "## Use numpy.where!\n",
    "\n",
    "np.where(numbers == 6)"
   ]
  },
  {
   "cell_type": "code",
   "execution_count": 25,
   "metadata": {},
   "outputs": [],
   "source": [
    "## this tells me that the 4th and 11th indices are where numbers = 6.\n",
    "## Note that this is a 1d array, and there's an array inside an array.\n",
    "\n",
    "## If I wanted to use this result to find the actual numbers where the condition is met, I need to subset the array.\n",
    "numbers_indices = np.where(numbers == 6)"
   ]
  },
  {
   "cell_type": "code",
   "execution_count": 27,
   "metadata": {},
   "outputs": [
    {
     "data": {
      "text/plain": [
       "array([6, 6])"
      ]
     },
     "execution_count": 27,
     "metadata": {},
     "output_type": "execute_result"
    }
   ],
   "source": [
    "## If I wanted the values at numbers_indices:\n",
    "\n",
    "## Try 1:\n",
    "numbers[numbers_indices]\n",
    "\n",
    "## Try 2:\n",
    "numbers[numbers_indices[0]]"
   ]
  },
  {
   "cell_type": "code",
   "execution_count": null,
   "metadata": {},
   "outputs": [],
   "source": []
  }
 ],
 "metadata": {
  "kernelspec": {
   "display_name": "Python 3",
   "language": "python",
   "name": "python3"
  },
  "language_info": {
   "codemirror_mode": {
    "name": "ipython",
    "version": 3
   },
   "file_extension": ".py",
   "mimetype": "text/x-python",
   "name": "python",
   "nbconvert_exporter": "python",
   "pygments_lexer": "ipython3",
   "version": "3.7.4"
  }
 },
 "nbformat": 4,
 "nbformat_minor": 2
}
