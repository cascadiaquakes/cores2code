{
 "cells": [
  {
   "cell_type": "markdown",
   "metadata": {},
   "source": [
    "# Python Basics Notebook #\n",
    "\n",
    "\n"
   ]
  },
  {
   "cell_type": "markdown",
   "metadata": {
    "vscode": {
     "languageId": "markdown"
    }
   },
   "source": [
    "## Introduction\n",
    "\n",
    "This notebook is designed to introduce the basics of Python programming and the concept of Jupyter Notebooks. It covers fundamental concepts such as variables, data types, mathematical operations, and the use of external libraries like NumPy. The goal is to provide a hands-on learning experience for beginners to become familiar with Python syntax, essential programming practices, and how to use interactive notebooks for coding and documentation.\n",
    "\n",
    "**Topics covered in this notebook:**\n",
    "- What is a Jupyter Notebook?\n",
    "- Variables and naming conventions\n",
    "- Data types (integers, floats, strings)\n",
    "- Comments and best practices\n",
    "- Mathematical operations (addition, subtraction, multiplication, division, exponentiation, floor division, modulo)\n",
    "- Scientific notation\n",
    "- String handling\n",
    "- Case sensitivity in variable names\n",
    "- Using external libraries (NumPy)\n",
    "- Printing and displaying output in Jupyter Notebook"
   ]
  },
  {
   "cell_type": "markdown",
   "metadata": {
    "vscode": {
     "languageId": "markdown"
    }
   },
   "source": [
    "## What is a Jupyter Notebook?\n",
    "\n",
    "This document is a **Jupyter Notebook**. A Jupyter Notebook is an interactive computing environment that allows you to write and run code in small sections called \"cells.\" You can mix code, text, equations, and visualizations in a single document. This makes it a powerful tool for learning, experimenting, and sharing code, especially in data science, scientific computing, and education.\n",
    "\n",
    "- **Code cells** let you write and execute code (like Python).\n",
    "- **Markdown cells** let you write formatted text, explanations, and notes.\n",
    "- You can run cells in any order and see the output immediately below each cell.\n",
    "\n",
    "Jupyter Notebooks are widely used because they make it easy to document your workflow, explain your thought process, and share your work with others."
   ]
  },
  {
   "cell_type": "code",
   "execution_count": 33,
   "metadata": {},
   "outputs": [
    {
     "name": "stdout",
     "output_type": "stream",
     "text": [
      "5\n"
     ]
    }
   ],
   "source": [
    "# Comments in Python:\n",
    "# Any text following a '#' symbol is ignored by Python and is not executed.\n",
    "# Comments are used to explain code, make notes, or temporarily disable code.\n",
    "\n",
    "# You can use a single '#' or multiple '###' for emphasis or sectioning, but only one is needed.\n",
    "\n",
    "# Best Practice: Write clear, concise comments to explain your code.\n",
    "# Good comments help others (and your future self) understand your logic.\n",
    "\n",
    "# Example of a comment:\n",
    "# This line adds two numbers:\n",
    "sum_result = 2 + 3  # sum_result will be 5\n",
    "print(sum_result)  # Output the result\n",
    "\n"
   ]
  },
  {
   "cell_type": "code",
   "execution_count": 34,
   "metadata": {},
   "outputs": [],
   "source": [
    "# Best Practice: Place all import statements for external modules (like numpy) at the very beginning of your notebook or script.\n",
    "# This makes it easier to see which libraries your code depends on and avoids repeated imports.\n",
    "\n",
    "# Importing external modules:\n",
    "import numpy as np  # 'np' is a common alias for numpy\n",
    "\n",
    "# Now you can use numpy functions with the 'np.' prefix, e.g., np.sum([1, 2, 3])"
   ]
  },
  {
   "cell_type": "code",
   "execution_count": 35,
   "metadata": {},
   "outputs": [
    {
     "data": {
      "text/plain": [
       "9"
      ]
     },
     "execution_count": 35,
     "metadata": {},
     "output_type": "execute_result"
    }
   ],
   "source": [
    "## An example of how I might use numpy:\n",
    "np.sum([2,3,4])"
   ]
  },
  {
   "cell_type": "markdown",
   "metadata": {},
   "source": [
    "We talked about variable names in class, what's valid and invalid.\n",
    "\n",
    "Let's make our first variable"
   ]
  },
  {
   "cell_type": "code",
   "execution_count": 36,
   "metadata": {},
   "outputs": [],
   "source": [
    "myfirstvariable2022 = 2022"
   ]
  },
  {
   "cell_type": "markdown",
   "metadata": {},
   "source": [
    "Note: the above did not print 2022 to the screen, because we were just setting a variable.\n",
    "\n",
    "If I want to print the value of that variable to the screen, I can do that two ways in jupyter:\n",
    "1. type variable name\n",
    "2. use print function in python"
   ]
  },
  {
   "cell_type": "code",
   "execution_count": 37,
   "metadata": {},
   "outputs": [
    {
     "data": {
      "text/plain": [
       "2022"
      ]
     },
     "execution_count": 37,
     "metadata": {},
     "output_type": "execute_result"
    }
   ],
   "source": [
    "myfirstvariable2022"
   ]
  },
  {
   "cell_type": "code",
   "execution_count": 38,
   "metadata": {},
   "outputs": [
    {
     "name": "stdout",
     "output_type": "stream",
     "text": [
      "2022\n"
     ]
    }
   ],
   "source": [
    "print(myfirstvariable2022)"
   ]
  },
  {
   "cell_type": "markdown",
   "metadata": {},
   "source": [
    "To convince ourselves that python is case sensitive:"
   ]
  },
  {
   "cell_type": "code",
   "execution_count": 39,
   "metadata": {},
   "outputs": [
    {
     "name": "stdout",
     "output_type": "stream",
     "text": [
      "3\n"
     ]
    }
   ],
   "source": [
    "Myfirstvariable2022 = 3\n",
    "print(Myfirstvariable2022)"
   ]
  },
  {
   "cell_type": "code",
   "execution_count": 40,
   "metadata": {},
   "outputs": [
    {
     "ename": "SyntaxError",
     "evalue": "invalid decimal literal (623714854.py, line 1)",
     "output_type": "error",
     "traceback": [
      "\u001b[0;36m  Cell \u001b[0;32mIn[40], line 1\u001b[0;36m\u001b[0m\n\u001b[0;31m    2022myfirstvariable = 3\u001b[0m\n\u001b[0m       ^\u001b[0m\n\u001b[0;31mSyntaxError\u001b[0m\u001b[0;31m:\u001b[0m invalid decimal literal\n"
     ]
    }
   ],
   "source": [
    "2022myfirstvariable = 3"
   ]
  },
  {
   "cell_type": "markdown",
   "metadata": {},
   "source": [
    "So far, we've been setting our variables equal to integers. \n",
    "\n",
    "However, we can set them equal to many different things.\n",
    "\n",
    "Some examples:"
   ]
  },
  {
   "cell_type": "code",
   "execution_count": null,
   "metadata": {},
   "outputs": [
    {
     "name": "stdout",
     "output_type": "stream",
     "text": [
      "4000000.0\n"
     ]
    }
   ],
   "source": [
    "sciexp = 4e6\n",
    "print(sciexp)"
   ]
  },
  {
   "cell_type": "code",
   "execution_count": null,
   "metadata": {},
   "outputs": [
    {
     "name": "stdout",
     "output_type": "stream",
     "text": [
      "0.001\n"
     ]
    }
   ],
   "source": [
    "sciexp2 = 1e-3\n",
    "print(sciexp2)"
   ]
  },
  {
   "cell_type": "markdown",
   "metadata": {},
   "source": [
    "Scientific notation is one example, and we use \"e\" to represent x10"
   ]
  },
  {
   "cell_type": "code",
   "execution_count": null,
   "metadata": {},
   "outputs": [
    {
     "name": "stdout",
     "output_type": "stream",
     "text": [
      "redapple\n"
     ]
    }
   ],
   "source": [
    "## Strings:\n",
    "## We can set variables equal to a string - words/letters\n",
    "stringvariable = 'redapple'\n",
    "print(stringvariable)"
   ]
  },
  {
   "cell_type": "code",
   "execution_count": null,
   "metadata": {},
   "outputs": [
    {
     "name": "stdout",
     "output_type": "stream",
     "text": [
      "redapple\n"
     ]
    }
   ],
   "source": [
    "##double quotes work as well to define a string:\n",
    "stringvariable2 = \"redapple\"\n",
    "print(stringvariable2)"
   ]
  },
  {
   "cell_type": "code",
   "execution_count": null,
   "metadata": {},
   "outputs": [
    {
     "ename": "NameError",
     "evalue": "name 'redapple' is not defined",
     "output_type": "error",
     "traceback": [
      "\u001b[0;31m---------------------------------------------------------------------------\u001b[0m",
      "\u001b[0;31mNameError\u001b[0m                                 Traceback (most recent call last)",
      "Cell \u001b[0;32mIn[13], line 1\u001b[0m\n\u001b[0;32m----> 1\u001b[0m stringvariable3 \u001b[38;5;241m=\u001b[39m \u001b[43mredapple\u001b[49m\n",
      "\u001b[0;31mNameError\u001b[0m: name 'redapple' is not defined"
     ]
    }
   ],
   "source": [
    "stringvariable3 = redapple"
   ]
  },
  {
   "cell_type": "markdown",
   "metadata": {},
   "source": [
    "above there are no quotes, which we need to define a string\n",
    "in this case because we are setting the variable equal to letters, it thinks those letters are another variable\n",
    "which isn't defined."
   ]
  },
  {
   "cell_type": "code",
   "execution_count": null,
   "metadata": {},
   "outputs": [
    {
     "name": "stdout",
     "output_type": "stream",
     "text": [
      "3\n"
     ]
    }
   ],
   "source": [
    "## if we had defined redapple, it would set stringvariable3 equal to the value of the variable redapple\n",
    "redapple = 3\n",
    "stringvariable3 = redapple\n",
    "print(stringvariable3)"
   ]
  },
  {
   "cell_type": "markdown",
   "metadata": {},
   "source": [
    "## Other python Basics"
   ]
  },
  {
   "cell_type": "code",
   "execution_count": null,
   "metadata": {},
   "outputs": [
    {
     "data": {
      "text/plain": [
       "4"
      ]
     },
     "execution_count": 16,
     "metadata": {},
     "output_type": "execute_result"
    }
   ],
   "source": [
    "## How do we add?\n",
    "2+2"
   ]
  },
  {
   "cell_type": "code",
   "execution_count": null,
   "metadata": {},
   "outputs": [
    {
     "data": {
      "text/plain": [
       "0"
      ]
     },
     "execution_count": 17,
     "metadata": {},
     "output_type": "execute_result"
    }
   ],
   "source": [
    "## Subtraction:\n",
    "2-2"
   ]
  },
  {
   "cell_type": "code",
   "execution_count": null,
   "metadata": {},
   "outputs": [
    {
     "data": {
      "text/plain": [
       "4"
      ]
     },
     "execution_count": 18,
     "metadata": {},
     "output_type": "execute_result"
    }
   ],
   "source": [
    "## Multiply and divide, * and / respectively:\n",
    "2*2"
   ]
  },
  {
   "cell_type": "code",
   "execution_count": null,
   "metadata": {},
   "outputs": [
    {
     "data": {
      "text/plain": [
       "1.0"
      ]
     },
     "execution_count": 19,
     "metadata": {},
     "output_type": "execute_result"
    }
   ],
   "source": [
    "2/2"
   ]
  },
  {
   "cell_type": "code",
   "execution_count": null,
   "metadata": {},
   "outputs": [
    {
     "data": {
      "text/plain": [
       "8"
      ]
     },
     "execution_count": 20,
     "metadata": {},
     "output_type": "execute_result"
    }
   ],
   "source": [
    "## To the power of?\n",
    "2**3"
   ]
  },
  {
   "cell_type": "code",
   "execution_count": null,
   "metadata": {},
   "outputs": [
    {
     "data": {
      "text/plain": [
       "0.9542425094393249"
      ]
     },
     "execution_count": 21,
     "metadata": {},
     "output_type": "execute_result"
    }
   ],
   "source": [
    "## We need numpy for things like logs and exponentials:\n",
    "np.log10(9) ## this is using numpy's function log10, which log base 10"
   ]
  },
  {
   "cell_type": "code",
   "execution_count": null,
   "metadata": {},
   "outputs": [
    {
     "data": {
      "text/plain": [
       "2.1972245773362196"
      ]
     },
     "execution_count": 22,
     "metadata": {},
     "output_type": "execute_result"
    }
   ],
   "source": [
    "## natural log is np.log (they're different here)\n",
    "np.log(9)"
   ]
  },
  {
   "cell_type": "code",
   "execution_count": null,
   "metadata": {},
   "outputs": [
    {
     "data": {
      "text/plain": [
       "2.718281828459045"
      ]
     },
     "execution_count": 23,
     "metadata": {},
     "output_type": "execute_result"
    }
   ],
   "source": [
    "## Exponentials, e\n",
    "np.exp(1)"
   ]
  },
  {
   "cell_type": "code",
   "execution_count": null,
   "metadata": {},
   "outputs": [
    {
     "data": {
      "text/plain": [
       "1.0"
      ]
     },
     "execution_count": 24,
     "metadata": {},
     "output_type": "execute_result"
    }
   ],
   "source": [
    "## We can also combine these:\n",
    "\n",
    "np.log(np.exp(1))   # gives me ln(e**1)"
   ]
  },
  {
   "cell_type": "code",
   "execution_count": null,
   "metadata": {},
   "outputs": [
    {
     "data": {
      "text/plain": [
       "5.0"
      ]
     },
     "execution_count": 25,
     "metadata": {},
     "output_type": "execute_result"
    }
   ],
   "source": [
    "## Floor division:\n",
    "## Rounds down the division:\n",
    "\n",
    "## The other day we used this for peasant multiplication:\n",
    "np.floor(26/5)"
   ]
  },
  {
   "cell_type": "code",
   "execution_count": null,
   "metadata": {},
   "outputs": [
    {
     "data": {
      "text/plain": [
       "5"
      ]
     },
     "execution_count": 26,
     "metadata": {},
     "output_type": "execute_result"
    }
   ],
   "source": [
    "## the second way doesn't need numpy, //\n",
    "26//5"
   ]
  },
  {
   "cell_type": "markdown",
   "metadata": {},
   "source": [
    "## Python follows PEMDAS!\n",
    "\n",
    "Test it out.."
   ]
  },
  {
   "cell_type": "code",
   "execution_count": null,
   "metadata": {},
   "outputs": [
    {
     "data": {
      "text/plain": [
       "20"
      ]
     },
     "execution_count": 27,
     "metadata": {},
     "output_type": "execute_result"
    }
   ],
   "source": [
    "2+3**2*2"
   ]
  },
  {
   "cell_type": "code",
   "execution_count": null,
   "metadata": {},
   "outputs": [
    {
     "data": {
      "text/plain": [
       "84"
      ]
     },
     "execution_count": 28,
     "metadata": {},
     "output_type": "execute_result"
    }
   ],
   "source": [
    "(3+7)**2-8*2"
   ]
  },
  {
   "cell_type": "code",
   "execution_count": null,
   "metadata": {},
   "outputs": [
    {
     "name": "stdout",
     "output_type": "stream",
     "text": [
      "-1\n"
     ]
    }
   ],
   "source": [
    "## Just because it follows PEMDAS, doesn't mean it's easy to read code.\n",
    "pemdas_test1 = 2+3**2-(4+2)*2\n",
    "\n",
    "## This should be -1: 2+3**2 - (6)*2 = 2+9-12\n",
    "print(pemdas_test1)"
   ]
  },
  {
   "cell_type": "code",
   "execution_count": null,
   "metadata": {},
   "outputs": [
    {
     "name": "stdout",
     "output_type": "stream",
     "text": [
      "-1\n"
     ]
    }
   ],
   "source": [
    "## More readable sometimes to add more parentheses\n",
    "pemdas_test2 = 2+(3**2)-((4+2)*2)\n",
    "print(pemdas_test2)"
   ]
  },
  {
   "cell_type": "markdown",
   "metadata": {},
   "source": [
    "One more operation, mod:"
   ]
  },
  {
   "cell_type": "code",
   "execution_count": null,
   "metadata": {},
   "outputs": [
    {
     "data": {
      "text/plain": [
       "1"
      ]
     },
     "execution_count": 32,
     "metadata": {},
     "output_type": "execute_result"
    }
   ],
   "source": [
    "## modulo, or mod is %\n",
    "\n",
    "## so 5 mod 2: 5%2\n",
    "5%2"
   ]
  },
  {
   "cell_type": "code",
   "execution_count": null,
   "metadata": {},
   "outputs": [
    {
     "data": {
      "text/plain": [
       "1"
      ]
     },
     "execution_count": 33,
     "metadata": {},
     "output_type": "execute_result"
    }
   ],
   "source": [
    "## Can also use \"mod\" in numpy:\n",
    "np.mod(5,2)"
   ]
  },
  {
   "cell_type": "markdown",
   "metadata": {},
   "source": [
    "## Summary of Concepts Learned\n",
    "\n",
    "In this notebook, we covered the following Python basics:\n",
    "\n",
    "- **Introduction to Jupyter Notebooks:**  \n",
    "    - What a Jupyter Notebook is and how it allows you to write and run code in interactive cells, mix code with formatted text, and document your workflow.\n",
    "\n",
    "- **Variables and Naming Conventions:**  \n",
    "    - How to create variables with valid names (e.g., `myfirstvariable2022`, `Myfirstvariable2022`).\n",
    "    - Python is case sensitive (`myfirstvariable2022` ≠ `Myfirstvariable2022`).\n",
    "    - Variable names cannot start with a number.\n",
    "\n",
    "- **Data Types:**  \n",
    "    - Integers (e.g., `2022`, `3`)\n",
    "    - Floats and scientific notation (e.g., `4e6`, `1e-3`)\n",
    "    - Strings (e.g., `'redapple'`, `\"redapple\"`)\n",
    "\n",
    "- **Comments:**  \n",
    "    - Using `#` to add comments and explain code.\n",
    "\n",
    "- **Printing Output:**  \n",
    "    - Displaying variable values by typing the variable name or using the `print()` function.\n",
    "\n",
    "- **Mathematical Operations:**  \n",
    "    - Addition (`+`), subtraction (`-`), multiplication (`*`), division (`/`)\n",
    "    - Exponentiation (`**`)\n",
    "    - Floor division (`//`)\n",
    "    - Modulo (`%`)\n",
    "\n",
    "- **Scientific Notation:**  \n",
    "    - Using `e` to represent powers of 10 (e.g., `4e6` for 4,000,000).\n",
    "\n",
    "- **Using External Libraries:**  \n",
    "    - Importing and using NumPy for advanced math functions (e.g., `np.sum`, `np.log`, `np.exp`, `np.mod`).\n",
    "\n",
    "- **Order of Operations:**  \n",
    "    - Python follows PEMDAS (Parentheses, Exponents, Multiplication/Division, Addition/Subtraction).\n",
    "\n",
    "- **Error Examples:**  \n",
    "    - Assigning a variable to an undefined name (e.g., `stringvariable3 = redapple` before `redapple` is defined).\n",
    "\n",
    "This notebook provided hands-on examples and explanations to help you understand and practice these foundational Python programming concepts."
   ]
  },
  {
   "cell_type": "markdown",
   "metadata": {},
   "source": []
  }
 ],
 "metadata": {
  "kernelspec": {
   "display_name": "base",
   "language": "python",
   "name": "python3"
  },
  "language_info": {
   "codemirror_mode": {
    "name": "ipython",
    "version": 3
   },
   "file_extension": ".py",
   "mimetype": "text/x-python",
   "name": "python",
   "nbconvert_exporter": "python",
   "pygments_lexer": "ipython3",
   "version": "3.10.6"
  }
 },
 "nbformat": 4,
 "nbformat_minor": 2
}
