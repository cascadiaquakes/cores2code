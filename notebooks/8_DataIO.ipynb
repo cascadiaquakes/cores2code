{
 "cells": [
  {
   "cell_type": "markdown",
   "metadata": {},
   "source": [
    "## Data Input/Output\n",
    "Week 6, 2022\n",
    "\n",
    "\n",
    "How to read in and write out data files.\n",
    "\n",
    "To read in a file, we first need to know where it's stored. This is the \"path\" to the file.\n",
    "\n",
    "This is the direct address to where the file is stored... kind of like an address for a letter:\n",
    "\n",
    "    i. Name\n",
    "    ii. Street Number/Name\n",
    "    iii. City\n",
    "    iv. State\n",
    "    v. country\n",
    "\n",
    "In programming, the path has the \"outer\" one first.\n",
    "\n",
    "path_to_cascade101 = /Earth/NAmerica/USA/OR/Eugene/E13thStreet/1535/Cascade/101/labcomputer\n",
    "\n",
    "\n",
    "We'll do the same thing with files.\n",
    "\n",
    "\n",
    "With computers, we need to put the path in a string"
   ]
  },
  {
   "cell_type": "code",
   "execution_count": 5,
   "metadata": {},
   "outputs": [],
   "source": [
    "import numpy as np\n",
    "import matplotlib.pyplot as plt\n",
    "\n",
    "## On the lab computers, windows:\n",
    "iwtdata_path = 'C:\\\\Users\\\\vjs\\\\data_for_class\\\\IWT009_vel.txt'\n",
    "\n",
    "## On a mac:\n",
    "# ' /Users/yourusername/Documents/'\n",
    "\n",
    "## Now we have a string that tells us where this file is located - it's stored in the variable iwtdata_path.\n",
    "\n",
    "## Before we try to read it in, we need to know the format of the file. "
   ]
  },
  {
   "cell_type": "code",
   "execution_count": 6,
   "metadata": {},
   "outputs": [
    {
     "name": "stdout",
     "output_type": "stream",
     "text": [
      "[[ 0.0000e+00  0.0000e+00  0.0000e+00  0.0000e+00]\n",
      " [ 1.0000e-02 -7.2873e-07 -1.5335e-06  7.3878e-08]\n",
      " [ 2.0000e-02 -1.6085e-06 -4.5850e-06 -2.6440e-07]\n",
      " ...\n",
      " [ 2.9997e+02  4.8793e-03  2.8467e-03  3.4422e-03]\n",
      " [ 2.9998e+02  4.3609e-03  2.6095e-03  3.3364e-03]\n",
      " [ 2.9999e+02  4.0116e-03  2.2383e-03  3.3248e-03]]\n"
     ]
    }
   ],
   "source": [
    "### FINISH NEXT CLASS ##\n",
    "iwtdata = np.genfromtxt(iwtdata_path)\n",
    "print(iwtdata)"
   ]
  },
  {
   "cell_type": "code",
   "execution_count": 7,
   "metadata": {},
   "outputs": [],
   "source": [
    "time = iwtdata[:,0]\n",
    "datacol = iwtdata[:,1]"
   ]
  },
  {
   "cell_type": "code",
   "execution_count": 8,
   "metadata": {},
   "outputs": [
    {
     "data": {
      "text/plain": [
       "[<matplotlib.lines.Line2D at 0x2334a57e108>]"
      ]
     },
     "execution_count": 8,
     "metadata": {},
     "output_type": "execute_result"
    },
    {
     "data": {
      "image/png": "[encoded data removed]",
      "text/plain": [
       "<Figure size 432x288 with 1 Axes>"
      ]
     },
     "metadata": {
      "needs_background": "light"
     },
     "output_type": "display_data"
    }
   ],
   "source": [
    "plt.plot(time,datacol)"
   ]
  },
  {
   "cell_type": "code",
   "execution_count": null,
   "metadata": {},
   "outputs": [],
   "source": []
  }
 ],
 "metadata": {
  "kernelspec": {
   "display_name": "Python 3 (ipykernel)",
   "language": "python",
   "name": "python3"
  },
  "language_info": {
   "codemirror_mode": {
    "name": "ipython",
    "version": 3
   },
   "file_extension": ".py",
   "mimetype": "text/x-python",
   "name": "python",
   "nbconvert_exporter": "python",
   "pygments_lexer": "ipython3",
   "version": "3.8.12"
  }
 },
 "nbformat": 4,
 "nbformat_minor": 2
}
