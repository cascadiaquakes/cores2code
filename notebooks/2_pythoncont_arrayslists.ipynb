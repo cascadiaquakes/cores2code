{
 "cells": [
  {
   "cell_type": "markdown",
   "metadata": {},
   "source": [
    "#  Python Basics continued, and Arrays and Lists\n"
   ]
  },
  {
   "cell_type": "markdown",
   "metadata": {
    "vscode": {
     "languageId": "markdown"
    }
   },
   "source": [
    "### Notebook Overview\n",
    "\n",
    "This notebook introduces fundamental Python concepts, focusing on variables, conditional statements, and basic algorithms. It then explores the differences between Python lists, NumPy arrays, and tuples, highlighting their properties, operations, and use cases. The notebook also covers indexing and slicing techniques for these data structures, providing practical examples to illustrate each concept."
   ]
  },
  {
   "cell_type": "code",
   "execution_count": 1,
   "metadata": {},
   "outputs": [],
   "source": [
    "## Import numpy\n",
    "import numpy as np"
   ]
  },
  {
   "cell_type": "markdown",
   "metadata": {},
   "source": [
    "### Our first Python algorithm:\n",
    "\n",
    "Before we dive in, let's clarify some key concepts:\n",
    "\n",
    "**What is an algorithm?**  \n",
    "An algorithm is a step-by-step set of instructions or rules designed to solve a specific problem or perform a task. Algorithms are fundamental to programming and computer science, as they provide a clear method for processing data and making decisions.\n",
    "\n",
    "**What is algorithmic thinking?**  \n",
    "Algorithmic thinking is the process of breaking down problems into logical, manageable steps that can be expressed as an algorithm. It involves identifying the sequence of actions needed to achieve a desired outcome and considering all possible scenarios.\n",
    "\n",
    "---\n",
    "\n",
    "**Example Algorithm:**  \n",
    "Let's demonstrate algorithmic thinking by solving a simple problem:  \n",
    "**Problem:** Decide if a number `a` is even or odd (i.e., is `a` divisible by 2?)."
   ]
  },
  {
   "cell_type": "code",
   "execution_count": 1,
   "metadata": {},
   "outputs": [],
   "source": [
    "## Set a equal to some number\n",
    "a = 27"
   ]
  },
  {
   "cell_type": "code",
   "execution_count": 2,
   "metadata": {},
   "outputs": [
    {
     "name": "stdout",
     "output_type": "stream",
     "text": [
      "a is odd\n"
     ]
    }
   ],
   "source": [
    "#################################\n",
    "## Version 1 of the algorithm: ##\n",
    "#################################\n",
    "\n",
    "\n",
    "## We create a variable, evenorodd, which is the remainder after dividing a by 2:\n",
    "evenorodd = a % 2 ## Or can type np.mod(a,2). Both work the same.\n",
    "\n",
    "## If evenorodd equals 1, a is odd\n",
    "if evenorodd == 1: ## The colon : is the equivalent of the \"then\" statement\n",
    "    print('a is odd')\n",
    "## Otherwise a is even:\n",
    "else:\n",
    "    print('a is even')"
   ]
  },
  {
   "cell_type": "markdown",
   "metadata": {},
   "source": [
    "### Algorithms, Conditional Statements, and Operators\n",
    "\n",
    "In the previous cell, we learned how to use algorithms and conditional statements to solve a simple problem: determining if a number is even or odd.\n",
    "\n",
    "- **Algorithm**: We followed a step-by-step process to check if the variable `a` (which is 27) is even or odd.\n",
    "- **Operators**: We used the modulo operator `%` to compute the remainder when `a` is divided by 2. If the result (`evenorodd`) is 1, the number is odd; if it is 0, the number is even.\n",
    "- **Conditional Statements**: We used an `if-else` statement to check the value of `evenorodd`. If it equals 1, we print that `a` is odd; otherwise, we print that `a` is even.\n",
    "\n",
    "This demonstrates how algorithms break problems into logical steps, how operators perform calculations, and how conditional statements allow our code to make decisions based on those calculations."
   ]
  },
  {
   "cell_type": "code",
   "execution_count": 7,
   "metadata": {},
   "outputs": [
    {
     "name": "stdout",
     "output_type": "stream",
     "text": [
      "first print statement\n",
      "entered decision structure\n",
      "27\n",
      "a is odd\n"
     ]
    }
   ],
   "source": [
    "#################################\n",
    "## Version 2 of the algorithm: ##\n",
    "#################################\n",
    "\n",
    "## Start off by assuming that a is even:\n",
    "oddprintstatement = 'a is even'\n",
    "print('first print statement')\n",
    "\n",
    "## We create a variable, evenorodd, which is the remainder after dividing a by 2:\n",
    "evenorodd = a % 2 ## Or can type np.mod(a,2). Both work the same.\n",
    "\n",
    "## If evenorodd equals 1, a is odd\n",
    "if evenorodd == 1: ## The colon : is the equivalent of the \"then\" statement\n",
    "    oddprintstatement = 'a is odd'\n",
    "    print('entered decision structure')\n",
    "\n",
    "print(a)\n",
    "print(oddprintstatement)"
   ]
  },
  {
   "cell_type": "markdown",
   "metadata": {},
   "source": [
    "### Is Version 2 of the Algorithm Preferable?\n",
    "\n",
    "Version 2 of the algorithm starts by assuming that the number `a` is even and sets the variable `oddprintstatement` to `'a is even'`. It then checks if `a` is actually odd by evaluating the remainder when `a` is divided by 2 (`evenorodd = a % 2`). If the remainder is 1, it updates `oddprintstatement` to `'a is odd'`. Finally, it prints the value of `a` and the result.\n",
    "\n",
    "**Why might this version be considered better?**\n",
    "- **Clarity:** By initializing the result variable (`oddprintstatement`) at the start, the code makes it clear what the default assumption is.\n",
    "- **Single Output Statement:** The result is printed once at the end, which can make the output logic cleaner, especially if more actions are needed after the decision.\n",
    "- **Easier to Extend:** If you want to add more logic after determining if `a` is even or odd, this structure is easier to build upon.\n",
    "\n",
    "**Why might it not be better?**\n",
    "- **Slightly More Complex:** It introduces an extra variable and an initial assignment, which may not be necessary for such a simple task.\n",
    "- **Less Direct:** For very simple decisions, the straightforward `if-else` with immediate print statements (as in Version 1) can be easier to read.\n",
    "\n",
    "In summary, Version 2 is more flexible and scalable for larger programs, but for very simple cases, Version 1 may be more concise."
   ]
  },
  {
   "cell_type": "markdown",
   "metadata": {},
   "source": [
    "## Switching Gears: Arrays and Lists in Scientific Programming\n",
    "\n",
    "In Python, **lists** and **arrays** are fundamental tools for storing and manipulating collections of data. Understanding the differences between them is crucial, especially in scientific programming, where efficient data handling and computation are essential.\n",
    "\n",
    "### Why Do These Concepts Matter?\n",
    "\n",
    "- **Data Storage:** Scientific problems often involve working with large datasets—measurements, simulation results, or experimental observations. Choosing the right data structure can make your code more efficient and easier to understand.\n",
    "- **Performance:** Arrays (especially those from the NumPy library) are optimized for numerical operations and can handle large-scale computations much faster than standard Python lists.\n",
    "- **Functionality:** Arrays support a wide range of mathematical operations directly, enabling concise and readable code for complex calculations.\n",
    "\n",
    "### Lists vs. Arrays: An Overview\n",
    "\n",
    "**Similarities:**\n",
    "- Both store collections of data (numbers, strings, etc.).\n",
    "- Both can be indexed and iterated through.\n",
    "\n",
    "**Key Differences:**\n",
    "- **Lists:** Flexible, can store elements of different data types, but are slower for numerical computations.\n",
    "- **Arrays (NumPy):** Require elements to be of the same data type, but support fast, element-wise mathematical operations and are ideal for scientific computing.\n",
    "\n",
    "In the following sections, we'll explore these differences in detail and see why arrays are often the preferred choice in scientific programming."
   ]
  },
  {
   "cell_type": "code",
   "execution_count": 23,
   "metadata": {},
   "outputs": [
    {
     "name": "stdout",
     "output_type": "stream",
     "text": [
      "[5, 2, 3, 4, 5]\n",
      "[5 2 3 4 5]\n"
     ]
    }
   ],
   "source": [
    "## Difference #1: How we make them\n",
    "## To make a list:\n",
    "mylist = [5,2,3,4,5]\n",
    "print(mylist)\n",
    "\n",
    "## to make an array, we need the package numpy (which we imported above)\n",
    "myarray = np.array([5,2,3,4,5])\n",
    "print(myarray)"
   ]
  },
  {
   "cell_type": "code",
   "execution_count": 24,
   "metadata": {},
   "outputs": [
    {
     "name": "stdout",
     "output_type": "stream",
     "text": [
      "[1.66666667 0.66666667 1.         1.33333333 1.66666667]\n"
     ]
    }
   ],
   "source": [
    "## Difference #2: What we can do perform on them is different.\n",
    "## Example: You can divide an array by 3 and that divides each element by 3:\n",
    "print(myarray/3)"
   ]
  },
  {
   "cell_type": "code",
   "execution_count": 25,
   "metadata": {},
   "outputs": [
    {
     "ename": "TypeError",
     "evalue": "unsupported operand type(s) for /: 'list' and 'int'",
     "output_type": "error",
     "traceback": [
      "\u001b[1;31m---------------------------------------------------------------------------\u001b[0m",
      "\u001b[1;31mTypeError\u001b[0m                                 Traceback (most recent call last)",
      "\u001b[1;32m<ipython-input-25-7e59d3dfab24>\u001b[0m in \u001b[0;36m<module>\u001b[1;34m\u001b[0m\n\u001b[0;32m      1\u001b[0m \u001b[1;31m## This doesn't work with lists:\u001b[0m\u001b[1;33m\u001b[0m\u001b[1;33m\u001b[0m\u001b[1;33m\u001b[0m\u001b[0m\n\u001b[1;32m----> 2\u001b[1;33m \u001b[0mprint\u001b[0m\u001b[1;33m(\u001b[0m\u001b[0mmylist\u001b[0m\u001b[1;33m/\u001b[0m\u001b[1;36m3\u001b[0m\u001b[1;33m)\u001b[0m\u001b[1;33m\u001b[0m\u001b[1;33m\u001b[0m\u001b[0m\n\u001b[0m",
      "\u001b[1;31mTypeError\u001b[0m: unsupported operand type(s) for /: 'list' and 'int'"
     ]
    }
   ],
   "source": [
    "## This doesn't work with lists:\n",
    "print(mylist/3)"
   ]
  },
  {
   "cell_type": "markdown",
   "metadata": {},
   "source": [
    "##3 Moral of the Story\n",
    "\n",
    "- You **cannot** perform elementwise mathematical operations directly on a Python list.\n",
    "- You **can** perform elementwise operations on a NumPy array, which makes arrays much more powerful and convenient for numerical computations. \n",
    "\n",
    "**Tip:** Use arrays (from NumPy) when you need to do math with collections of numbers!"
   ]
  },
  {
   "cell_type": "code",
   "execution_count": 27,
   "metadata": {},
   "outputs": [
    {
     "name": "stdout",
     "output_type": "stream",
     "text": [
      "['favoritelunch', 5, 3.2, 0.003]\n"
     ]
    }
   ],
   "source": [
    "## Difference #3: Lists can contain elements with different data types, arrays cannot:\n",
    "list2 = ['favoritelunch',5,3.2,3e-3]\n",
    "print(list2)"
   ]
  },
  {
   "cell_type": "code",
   "execution_count": 28,
   "metadata": {},
   "outputs": [
    {
     "name": "stdout",
     "output_type": "stream",
     "text": [
      "['favoritelunch' '5' '3.2' '0.003']\n"
     ]
    }
   ],
   "source": [
    "## Try with an array:\n",
    "array2 = np.array(['favoritelunch',5,3.2,3e-3])\n",
    "print(array2)"
   ]
  },
  {
   "cell_type": "markdown",
   "metadata": {},
   "source": [
    "### Notice what happened with the array:\n",
    "\n",
    "Although we created the array with different data types (a string and several numbers), NumPy automatically converted all the elements to strings. This is because NumPy arrays require all elements to be of the same data type. When mixed types are provided, NumPy upcasts them to a common type—in this case, strings—to ensure consistency within the array.\n",
    "\n",
    "**Key takeaway:**  \n",
    "NumPy arrays enforce a single data type for all elements, which can lead to automatic type conversion if you mix types when creating the array.#"
   ]
  },
  {
   "cell_type": "code",
   "execution_count": 12,
   "metadata": {},
   "outputs": [
    {
     "name": "stdout",
     "output_type": "stream",
     "text": [
      "[2, 3, 4, 5, 6, 7]\n"
     ]
    }
   ],
   "source": [
    "## Difference 4: We can add lists together to make a bigger lists; adding arrays adds the elements (doesn't change size of array)\n",
    "## Test it out:\n",
    "## Make 2 lists:\n",
    "list1 = [2,3,4]\n",
    "list2 = [5,6,7]\n",
    "\n",
    "## Add them together:\n",
    "biggerlist = list1 + list2\n",
    "print(biggerlist)"
   ]
  },
  {
   "cell_type": "code",
   "execution_count": 13,
   "metadata": {},
   "outputs": [
    {
     "ename": "NameError",
     "evalue": "name 'np' is not defined",
     "output_type": "error",
     "traceback": [
      "\u001b[0;31m---------------------------------------------------------------------------\u001b[0m",
      "\u001b[0;31mNameError\u001b[0m                                 Traceback (most recent call last)",
      "Cell \u001b[0;32mIn[13], line 2\u001b[0m\n\u001b[1;32m      1\u001b[0m \u001b[38;5;66;03m## Do same thing with arrays:\u001b[39;00m\n\u001b[0;32m----> 2\u001b[0m array1 \u001b[38;5;241m=\u001b[39m \u001b[43mnp\u001b[49m\u001b[38;5;241m.\u001b[39marray([\u001b[38;5;241m2\u001b[39m,\u001b[38;5;241m3\u001b[39m,\u001b[38;5;241m4\u001b[39m])\n\u001b[1;32m      3\u001b[0m array2 \u001b[38;5;241m=\u001b[39m np\u001b[38;5;241m.\u001b[39marray([\u001b[38;5;241m5\u001b[39m,\u001b[38;5;241m6\u001b[39m,\u001b[38;5;241m7\u001b[39m])\n\u001b[1;32m      5\u001b[0m biggerarray \u001b[38;5;241m=\u001b[39m array1 \u001b[38;5;241m+\u001b[39m array2\n",
      "\u001b[0;31mNameError\u001b[0m: name 'np' is not defined"
     ]
    }
   ],
   "source": [
    "## Do same thing with arrays:\n",
    "array1 = np.array([2,3,4])\n",
    "array2 = np.array([5,6,7])\n",
    "\n",
    "biggerarray = array1 + array2\n",
    "print(biggerarray)"
   ]
  },
  {
   "cell_type": "code",
   "execution_count": null,
   "metadata": {},
   "outputs": [
    {
     "name": "stdout",
     "output_type": "stream",
     "text": [
      "[2 3 4 5 6 7]\n"
     ]
    }
   ],
   "source": [
    "## Difference 5: Appending to arrays is different than with lists\n",
    "## Noticed above that we can append two lists together by adding them.\n",
    "## We can't do this with arrays\n",
    "\n",
    "## To make a bigger array, np.append:\n",
    "appendedarray = np.append(array1,array2)\n",
    "print(appendedarray)"
   ]
  },
  {
   "cell_type": "code",
   "execution_count": null,
   "metadata": {},
   "outputs": [
    {
     "data": {
      "text/plain": [
       "array([2, 3, 4, 5, 6, 7])"
      ]
     },
     "execution_count": 33,
     "metadata": {},
     "output_type": "execute_result"
    }
   ],
   "source": [
    "## Difference 6: Arrays can be multidimensional, Lists are 1-dimensional\n",
    "## So can append arrays together either as rows or columns\n",
    "\n",
    "## to append arrays as rows explicitly:\n",
    "np.r_[array1,array2]"
   ]
  },
  {
   "cell_type": "code",
   "execution_count": null,
   "metadata": {},
   "outputs": [
    {
     "data": {
      "text/plain": [
       "array([[2, 5],\n",
       "       [3, 6],\n",
       "       [4, 7]])"
      ]
     },
     "execution_count": 34,
     "metadata": {},
     "output_type": "execute_result"
    }
   ],
   "source": [
    "## Append them column-wise:\n",
    "np.c_[array1,array2]"
   ]
  },
  {
   "cell_type": "markdown",
   "metadata": {},
   "source": [
    "In the last few cells, we explored the differences between Python lists and NumPy arrays, focusing on how they store and manipulate data. We learned that:\n",
    "\n",
    "- **Lists** are flexible and can hold elements of different data types, but do not support elementwise mathematical operations directly.\n",
    "- **NumPy arrays** require all elements to be of the same data type and allow efficient, elementwise operations, making them ideal for scientific computing.\n",
    "- Adding two lists concatenates them, while adding two arrays performs elementwise addition.\n",
    "- Arrays can be easily appended and reshaped, supporting multidimensional data, whereas lists are inherently one-dimensional.\n",
    "- We also saw how NumPy handles mixed data types by upcasting all elements to a common type (usually strings).\n",
    "\n",
    "These concepts are fundamental for choosing the right data structure for different programming and data analysis tasks."
   ]
  },
  {
   "cell_type": "markdown",
   "metadata": {},
   "source": [
    "## The last storage type we'll talk about: Tuples\n",
    "\n",
    "Tuples are similar to lists and arrays in that they can store collections of items, but they have a unique property: **they are immutable**. This means that once a tuple is created, its elements cannot be changed, added, or removed.\n",
    "\n",
    "### The Oddity of Tuples\n",
    "\n",
    "- **Immutability:** Unlike lists (which you can modify), tuples are fixed after creation. If you try to change an element, Python will raise an error.\n",
    "- **Syntax:** Tuples are created using parentheses `()`, while lists use square brackets `[]`.\n",
    "- **Use Cases:** Because they can't be changed, tuples are often used to store data that should remain constant throughout a program, such as coordinates, RGB color values, or fixed configuration options.\n",
    "\n",
    "### Do We Use Tuples in Scientific Programming?\n",
    "\n",
    "- **Rarely for Data Storage:** In scientific programming, we usually work with large, mutable datasets that need to be updated or manipulated—tasks better suited for lists or NumPy arrays.\n",
    "- **When Are Tuples Useful?**\n",
    "    - As keys in dictionaries (since lists and arrays can't be used as dictionary keys).\n",
    "    - For returning multiple values from a function.\n",
    "    - For representing fixed-size, constant data (e.g., a point in 3D space).\n",
    "\n",
    "**Summary:**  \n",
    "Tuples are less common in scientific programming compared to lists and arrays, but their immutability can be useful in situations where you want to ensure data does not change. For most numerical and data analysis tasks, lists and especially NumPy arrays are preferred due to their flexibility and powerful mathematical capabilities."
   ]
  },
  {
   "cell_type": "code",
   "execution_count": 35,
   "metadata": {},
   "outputs": [
    {
     "name": "stdout",
     "output_type": "stream",
     "text": [
      "[2 3 4]\n"
     ]
    }
   ],
   "source": [
    "## Example: Change the first element of array1 to  be 1 instead of 2:\n",
    "print(array1)"
   ]
  },
  {
   "cell_type": "code",
   "execution_count": 36,
   "metadata": {},
   "outputs": [
    {
     "data": {
      "text/plain": [
       "2"
      ]
     },
     "execution_count": 36,
     "metadata": {},
     "output_type": "execute_result"
    }
   ],
   "source": [
    "array1[0]"
   ]
  },
  {
   "cell_type": "code",
   "execution_count": 37,
   "metadata": {},
   "outputs": [
    {
     "name": "stdout",
     "output_type": "stream",
     "text": [
      "[1 3 4]\n"
     ]
    }
   ],
   "source": [
    "## change the value of the first element:\n",
    "array1[0] = 1\n",
    "print(array1)"
   ]
  },
  {
   "cell_type": "code",
   "execution_count": 38,
   "metadata": {},
   "outputs": [
    {
     "name": "stdout",
     "output_type": "stream",
     "text": [
      "(2, 3, 4)\n"
     ]
    }
   ],
   "source": [
    "## With a tuple, we make them with parentheses (not brackets)\n",
    "tuple1 = (2,3,4)\n",
    "print(tuple1)"
   ]
  },
  {
   "cell_type": "code",
   "execution_count": 39,
   "metadata": {},
   "outputs": [
    {
     "data": {
      "text/plain": [
       "2"
      ]
     },
     "execution_count": 39,
     "metadata": {},
     "output_type": "execute_result"
    }
   ],
   "source": [
    "tuple1[0]"
   ]
  },
  {
   "cell_type": "code",
   "execution_count": 40,
   "metadata": {},
   "outputs": [
    {
     "ename": "TypeError",
     "evalue": "'tuple' object does not support item assignment",
     "output_type": "error",
     "traceback": [
      "\u001b[1;31m---------------------------------------------------------------------------\u001b[0m",
      "\u001b[1;31mTypeError\u001b[0m                                 Traceback (most recent call last)",
      "\u001b[1;32m<ipython-input-40-b95b1785d8c1>\u001b[0m in \u001b[0;36m<module>\u001b[1;34m\u001b[0m\n\u001b[0;32m      1\u001b[0m \u001b[1;31m## Try and change the first element:\u001b[0m\u001b[1;33m\u001b[0m\u001b[1;33m\u001b[0m\u001b[1;33m\u001b[0m\u001b[0m\n\u001b[1;32m----> 2\u001b[1;33m \u001b[0mtuple1\u001b[0m\u001b[1;33m[\u001b[0m\u001b[1;36m0\u001b[0m\u001b[1;33m]\u001b[0m \u001b[1;33m=\u001b[0m \u001b[1;36m1\u001b[0m\u001b[1;33m\u001b[0m\u001b[1;33m\u001b[0m\u001b[0m\n\u001b[0m\u001b[0;32m      3\u001b[0m \u001b[0mprint\u001b[0m\u001b[1;33m(\u001b[0m\u001b[0mtuple1\u001b[0m\u001b[1;33m)\u001b[0m\u001b[1;33m\u001b[0m\u001b[1;33m\u001b[0m\u001b[0m\n",
      "\u001b[1;31mTypeError\u001b[0m: 'tuple' object does not support item assignment"
     ]
    }
   ],
   "source": [
    "## Try and change the first element:\n",
    "tuple1[0] = 1\n",
    "print(tuple1)"
   ]
  },
  {
   "cell_type": "markdown",
   "metadata": {},
   "source": [
    "## Everyone's Favorite: Indexing\n",
    "\n",
    "**Indexing** is the process of accessing individual elements within a collection—such as a list, array, or tuple—using their position (or \"index\") in that collection.\n",
    "\n",
    "### Why Does Indexing Matter in Scientific Programming?\n",
    "\n",
    "- **Data Access:** Scientific data is often stored in large collections (like arrays or lists). Indexing allows you to quickly retrieve, analyze, or modify specific data points.\n",
    "- **Efficiency:** With indexing, you can loop through data, extract subsets, or perform calculations on selected elements without having to process the entire dataset.\n",
    "- **Flexibility:** Indexing supports powerful operations like slicing, which lets you work with ranges of data (e.g., every third measurement, or all values after a certain point).\n",
    "\n",
    "### How Indexing Works\n",
    "\n",
    "- Python starts counting at **0**. The first element is at index 0, the second at index 1, and so on.\n",
    "- You can use positive indices (from the start) or negative indices (from the end) to access elements.\n",
    "- Indexing is essential for tasks like data cleaning, analysis, and visualization.\n",
    "\n",
    "---\n",
    "\n",
    "Let's play with this concept by creating a list to represent lunchboxes and see how indexing helps us access and manipulate the contents!"
   ]
  },
  {
   "cell_type": "code",
   "execution_count": 41,
   "metadata": {},
   "outputs": [
    {
     "name": "stdout",
     "output_type": "stream",
     "text": [
      "['cheetos', 'apples', 'leftovers', 'gushers', 'sandwich', 'chicken', 'coffee', 'burrito']\n"
     ]
    }
   ],
   "source": [
    "lunchboxes = ['cheetos','apples','leftovers','gushers','sandwich','chicken','coffee','burrito']\n",
    "print(lunchboxes)"
   ]
  },
  {
   "cell_type": "code",
   "execution_count": 42,
   "metadata": {},
   "outputs": [
    {
     "data": {
      "text/plain": [
       "'gushers'"
      ]
     },
     "execution_count": 42,
     "metadata": {},
     "output_type": "execute_result"
    }
   ],
   "source": [
    "## NOTE: Python starts counting at 0.\n",
    "## A normal person might say they want the contents of the third lunchbox for lunch...\n",
    "lunchboxes[3]"
   ]
  },
  {
   "cell_type": "code",
   "execution_count": 43,
   "metadata": {},
   "outputs": [
    {
     "data": {
      "text/plain": [
       "'leftovers'"
      ]
     },
     "execution_count": 43,
     "metadata": {},
     "output_type": "execute_result"
    }
   ],
   "source": [
    "## That actually asked for the thing in the 4th lunchbox, we want the third:\n",
    "lunchboxes[2]"
   ]
  },
  {
   "cell_type": "code",
   "execution_count": 44,
   "metadata": {},
   "outputs": [
    {
     "data": {
      "text/plain": [
       "8"
      ]
     },
     "execution_count": 44,
     "metadata": {},
     "output_type": "execute_result"
    }
   ],
   "source": [
    "## What if someone asks you how many lunchboxes you have?\n",
    "## We want the \"length\" of the list, use \"len\"\n",
    "len(lunchboxes)"
   ]
  },
  {
   "cell_type": "code",
   "execution_count": 45,
   "metadata": {},
   "outputs": [
    {
     "ename": "IndexError",
     "evalue": "list index out of range",
     "output_type": "error",
     "traceback": [
      "\u001b[1;31m---------------------------------------------------------------------------\u001b[0m",
      "\u001b[1;31mIndexError\u001b[0m                                Traceback (most recent call last)",
      "\u001b[1;32m<ipython-input-45-54878cad40e2>\u001b[0m in \u001b[0;36m<module>\u001b[1;34m\u001b[0m\n\u001b[0;32m      1\u001b[0m \u001b[1;31m## will this run?\u001b[0m\u001b[1;33m\u001b[0m\u001b[1;33m\u001b[0m\u001b[1;33m\u001b[0m\u001b[0m\n\u001b[1;32m----> 2\u001b[1;33m \u001b[0mlunchboxes\u001b[0m\u001b[1;33m[\u001b[0m\u001b[1;36m8\u001b[0m\u001b[1;33m]\u001b[0m\u001b[1;33m\u001b[0m\u001b[1;33m\u001b[0m\u001b[0m\n\u001b[0m",
      "\u001b[1;31mIndexError\u001b[0m: list index out of range"
     ]
    }
   ],
   "source": [
    "## will this run?\n",
    "lunchboxes[8]"
   ]
  },
  {
   "cell_type": "code",
   "execution_count": 47,
   "metadata": {},
   "outputs": [
    {
     "name": "stdout",
     "output_type": "stream",
     "text": [
      "burrito\n",
      "burrito\n"
     ]
    }
   ],
   "source": [
    "## If I want the last lunchbox:\n",
    "print(lunchboxes[7])\n",
    "print(lunchboxes[-1])"
   ]
  },
  {
   "cell_type": "code",
   "execution_count": 49,
   "metadata": {},
   "outputs": [
    {
     "data": {
      "text/plain": [
       "['apples', 'leftovers']"
      ]
     },
     "execution_count": 49,
     "metadata": {},
     "output_type": "execute_result"
    }
   ],
   "source": [
    "## What if I want the second through fourth lunchboxes?\n",
    "lunchboxes[1:3] ## this will give me the second and third, but not fourth (index = 3)"
   ]
  },
  {
   "cell_type": "code",
   "execution_count": 50,
   "metadata": {},
   "outputs": [
    {
     "data": {
      "text/plain": [
       "['apples', 'leftovers', 'gushers']"
      ]
     },
     "execution_count": 50,
     "metadata": {},
     "output_type": "execute_result"
    }
   ],
   "source": [
    "## We actually have to do:\n",
    "lunchboxes[1:4]"
   ]
  },
  {
   "cell_type": "markdown",
   "metadata": {},
   "source": [
    "# Summary of This Notebook\n",
    "\n",
    "This notebook provides an introduction to fundamental Python programming concepts, with a focus on their application in scientific computing. The main topics covered include:\n",
    "\n",
    "- **Algorithms and Algorithmic Thinking:**  \n",
    "    The notebook begins by defining algorithms and demonstrating algorithmic thinking through the example of determining if a number is even or odd using conditional statements and operators.\n",
    "\n",
    "- **Conditional Statements and Operators:**  \n",
    "    It explains how to use `if-else` statements and the modulo operator `%` to make decisions in code.\n",
    "\n",
    "- **Python Data Structures:**  \n",
    "    The differences between Python lists, NumPy arrays, and tuples are explored in detail:\n",
    "        - **Lists:** Flexible, can store mixed data types, but do not support elementwise mathematical operations.\n",
    "        - **NumPy Arrays:** Require a single data type, support efficient elementwise operations, and are ideal for numerical computations.\n",
    "        - **Tuples:** Immutable collections, useful for storing constant data and as dictionary keys.\n",
    "\n",
    "- **Operations on Lists and Arrays:**  \n",
    "    The notebook demonstrates how lists and arrays behave differently when performing operations like addition, appending, and mathematical calculations.\n",
    "\n",
    "- **Indexing and Slicing:**  \n",
    "    It covers how to access and manipulate elements in lists, arrays, and tuples using indexing and slicing, emphasizing the importance of zero-based indexing in Python.\n",
    "\n",
    "- **Best Practices in Scientific Programming:**  \n",
    "    Throughout, the notebook highlights why NumPy arrays are preferred for scientific tasks and when other data structures like lists and tuples are appropriate.\n",
    "\n",
    "Overall, this notebook equips readers with foundational knowledge of Python data structures and control flow, preparing them for more advanced topics in scientific programming and data analysis."
   ]
  },
  {
   "cell_type": "markdown",
   "metadata": {},
   "source": []
  }
 ],
 "metadata": {
  "kernelspec": {
   "display_name": "base",
   "language": "python",
   "name": "python3"
  },
  "language_info": {
   "codemirror_mode": {
    "name": "ipython",
    "version": 3
   },
   "file_extension": ".py",
   "mimetype": "text/x-python",
   "name": "python",
   "nbconvert_exporter": "python",
   "pygments_lexer": "ipython3",
   "version": "3.10.6"
  }
 },
 "nbformat": 4,
 "nbformat_minor": 2
}
