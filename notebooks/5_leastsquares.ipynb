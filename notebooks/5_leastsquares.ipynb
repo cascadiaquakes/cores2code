{
 "cells": [
  {
   "cell_type": "markdown",
   "metadata": {},
   "source": [
    "# Least Squares Algorithm\n"
   ]
  },
  {
   "cell_type": "code",
   "execution_count": 1,
   "metadata": {},
   "outputs": [],
   "source": [
    "# modules to import\n",
    "import numpy as np\n",
    "import matplotlib.pyplot as plt\n",
    "import scipy.stats"
   ]
  },
  {
   "cell_type": "code",
   "execution_count": 2,
   "metadata": {},
   "outputs": [],
   "source": [
    "# Define some x and y arrays\n",
    "x = np.array([8,2,11,6,5,4,12,9,6,1])\n",
    "y = np.array([3,10,3,6,8,12,1,4,9,14])"
   ]
  },
  {
   "cell_type": "code",
   "execution_count": 3,
   "metadata": {},
   "outputs": [],
   "source": [
    "# find the mean of the x and y values\n",
    "Xbar = np.mean(x)\n",
    "Ybar = np.mean(y)"
   ]
  },
  {
   "cell_type": "code",
   "execution_count": 4,
   "metadata": {},
   "outputs": [
    {
     "name": "stdout",
     "output_type": "stream",
     "text": [
      "-131.0\n"
     ]
    }
   ],
   "source": [
    "# Get numerator \n",
    "m_numerator = np.sum((x - Xbar)*(y - Ybar))\n",
    "print(m_numerator)"
   ]
  },
  {
   "cell_type": "code",
   "execution_count": 5,
   "metadata": {},
   "outputs": [
    {
     "name": "stdout",
     "output_type": "stream",
     "text": [
      "[ 1.6 -4.4  4.6 -0.4 -1.4 -2.4  5.6  2.6 -0.4 -5.4]\n",
      "[-4.  3. -4. -1.  1.  5. -6. -3.  2.  7.]\n"
     ]
    }
   ],
   "source": [
    "# What's inside np.sum?\n",
    "print(x-Xbar)\n",
    "print(y-Ybar)"
   ]
  },
  {
   "cell_type": "code",
   "execution_count": 7,
   "metadata": {},
   "outputs": [
    {
     "name": "stdout",
     "output_type": "stream",
     "text": [
      "118.39999999999998\n"
     ]
    }
   ],
   "source": [
    "# Get denominator of m\n",
    "m_denominator = np.sum((x - Xbar)**2)\n",
    "print(m_denominator)"
   ]
  },
  {
   "cell_type": "code",
   "execution_count": 8,
   "metadata": {},
   "outputs": [
    {
     "name": "stdout",
     "output_type": "stream",
     "text": [
      "-1.106418918918919\n"
     ]
    }
   ],
   "source": [
    "# get m\n",
    "m = m_numerator/m_denominator\n",
    "print(m)"
   ]
  },
  {
   "cell_type": "code",
   "execution_count": 9,
   "metadata": {},
   "outputs": [
    {
     "name": "stdout",
     "output_type": "stream",
     "text": [
      "14.081081081081082\n"
     ]
    }
   ],
   "source": [
    "## get b\n",
    "b = Ybar - m*Xbar\n",
    "print(b)"
   ]
  },
  {
   "cell_type": "code",
   "execution_count": 21,
   "metadata": {},
   "outputs": [
    {
     "data": {
      "text/plain": [
       "Text(0.5, 1.0, 'Title of a sweet plot')"
      ]
     },
     "execution_count": 21,
     "metadata": {},
     "output_type": "execute_result"
    },
    {
     "data": {
      "image/png": "[encoded data removed]",
      "text/plain": [
       "<Figure size 432x288 with 1 Axes>"
      ]
     },
     "metadata": {
      "needs_background": "light"
     },
     "output_type": "display_data"
    }
   ],
   "source": [
    "## We will first plot the DATA (x and y values)\n",
    "## Then we will plot the best-fit line\n",
    "\n",
    "## Data\n",
    "plt.scatter(x,y)\n",
    "\n",
    "## plot best fit line (y = mx + b)\n",
    "bestfitting_y = m*x + b\n",
    "plt.plot(x,bestfitting_y,color='green')\n",
    "\n",
    "## Let's put some labels\n",
    "plt.xlabel('x')\n",
    "plt.ylabel('y')\n",
    "plt.title('Title of a sweet plot')\n"
   ]
  },
  {
   "cell_type": "code",
   "execution_count": 23,
   "metadata": {},
   "outputs": [
    {
     "name": "stdout",
     "output_type": "stream",
     "text": [
      "LinregressResult(slope=-1.1064189189189186, intercept=14.08108108108108, rvalue=-0.9344184402913377, pvalue=7.473261078418828e-05, stderr=0.1491074289251368)\n"
     ]
    }
   ],
   "source": [
    "## how to do this with scipy\n",
    "lst_squares = scipy.stats.linregress(x,y)\n",
    "print(lst_squares)\n",
    "\n"
   ]
  },
  {
   "cell_type": "code",
   "execution_count": 24,
   "metadata": {},
   "outputs": [
    {
     "data": {
      "text/plain": [
       "Text(0.5, 1.0, 'Title of a sweet plot (SCIPY)')"
      ]
     },
     "execution_count": 24,
     "metadata": {},
     "output_type": "execute_result"
    },
    {
     "data": {
      "image/png": "[encoded data removed]",
      "text/plain": [
       "<Figure size 432x288 with 1 Axes>"
      ]
     },
     "metadata": {
      "needs_background": "light"
     },
     "output_type": "display_data"
    }
   ],
   "source": [
    "## Data\n",
    "plt.scatter(x,y)\n",
    "\n",
    "## plot best fit line (y = mx + b)\n",
    "bestfitting_y = lst_squares[0]*x + lst_squares[1]\n",
    "plt.plot(x,bestfitting_y,color='red')\n",
    "\n",
    "## Let's put some labels\n",
    "plt.xlabel('x')\n",
    "plt.ylabel('y')\n",
    "plt.title('Title of a sweet plot (SCIPY)')"
   ]
  },
  {
   "cell_type": "code",
   "execution_count": null,
   "metadata": {},
   "outputs": [],
   "source": []
  }
 ],
 "metadata": {
  "kernelspec": {
   "display_name": "Python 3",
   "language": "python",
   "name": "python3"
  },
  "language_info": {
   "codemirror_mode": {
    "name": "ipython",
    "version": 3
   },
   "file_extension": ".py",
   "mimetype": "text/x-python",
   "name": "python",
   "nbconvert_exporter": "python",
   "pygments_lexer": "ipython3",
   "version": "3.7.4"
  }
 },
 "nbformat": 4,
 "nbformat_minor": 2
}
