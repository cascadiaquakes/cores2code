{
 "cells": [
  {
   "cell_type": "code",
   "execution_count": null,
   "id": "87eca430",
   "metadata": {},
   "outputs": [],
   "source": [
    "## Let's put it all together, we will anazlyze ruptures and their deformation models"
   ]
  }
 ],
 "metadata": {
  "language_info": {
   "name": "python"
  }
 },
 "nbformat": 4,
 "nbformat_minor": 5
}
