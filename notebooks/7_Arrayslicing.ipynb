{
 "cells": [
  {
   "cell_type": "markdown",
   "metadata": {},
   "source": [
    "##  2D+ Array Slicing\n",
    "\n",
    "\n",
    "This is an extension of what we did with 1D arrays (lunchbo analogy), but in more than one dimension.\n",
    "\n",
    "How do we reference/call on different parts of a multidimensional array?\n",
    "\n",
    "In a 1D array, we call the index \"i\", the placement in the array (i.e., myarray[i])\n",
    "\n",
    "In a 2D array, we have rows and columns (or more). So we need an index to describe the row (i), and also an index to describe the column (j). \n",
    "my2darray[i,j]\n"
   ]
  },
  {
   "cell_type": "code",
   "execution_count": 1,
   "metadata": {},
   "outputs": [],
   "source": [
    "import numpy as np\n",
    "\n",
    "## First, we need an array of random integers to test things out on.\n",
    "## Specify the shape of the array we want - in rows,columns\n",
    "random_shape = (13,6)\n",
    "\n",
    "## Now with this shape, make a random array. According to this function, we first put in the lowest integer \n",
    "## that we want to show up in this array. Then we put in the highest integer (excluded), then the size.\n",
    "randomarray = np.random.randint(0,51,random_shape)"
   ]
  },
  {
   "cell_type": "code",
   "execution_count": 2,
   "metadata": {},
   "outputs": [
    {
     "name": "stdout",
     "output_type": "stream",
     "text": [
      "[[24  0 46 18 50 26]\n",
      " [11 42  3  4 32 13]\n",
      " [39 11 29 44 28 22]\n",
      " [37 30 11 20  2 17]\n",
      " [ 8 41  5 19 45 36]\n",
      " [23 19 17 12 33 14]\n",
      " [25 14 16 41 25 17]\n",
      " [13 32 38 15 40  9]\n",
      " [ 9 42  5  8 34 48]\n",
      " [12 25 46 24 11 17]\n",
      " [43  5 37 50 11 18]\n",
      " [17 36 43 37  9 21]\n",
      " [48 20 33 18  3 35]]\n"
     ]
    }
   ],
   "source": [
    "print(randomarray)"
   ]
  },
  {
   "cell_type": "code",
   "execution_count": 3,
   "metadata": {},
   "outputs": [
    {
     "data": {
      "text/plain": [
       "29"
      ]
     },
     "execution_count": 3,
     "metadata": {},
     "output_type": "execute_result"
    }
   ],
   "source": [
    "## What if we wanted to reference the number 29 that's in the third row, and third column?\n",
    "## row index, i=2; column index, j=2\n",
    "randomarray[2,2]"
   ]
  },
  {
   "cell_type": "code",
   "execution_count": 4,
   "metadata": {},
   "outputs": [
    {
     "data": {
      "text/plain": [
       "20"
      ]
     },
     "execution_count": 4,
     "metadata": {},
     "output_type": "execute_result"
    }
   ],
   "source": [
    "## what about the number 20 in the fourth row?\n",
    "## row i = 3, column j = 3\n",
    "randomarray[3,3]"
   ]
  },
  {
   "cell_type": "code",
   "execution_count": 6,
   "metadata": {},
   "outputs": [
    {
     "data": {
      "text/plain": [
       "array([46,  3, 29, 11,  5, 17, 16, 38,  5, 46, 37, 43, 33])"
      ]
     },
     "execution_count": 6,
     "metadata": {},
     "output_type": "execute_result"
    }
   ],
   "source": [
    "## What about everything in the third column?\n",
    "## I want everything in column three, j = 2\n",
    "randomarray[:,2] ## the colon says give me all the rows (indices in the dimension you're referencing)\n",
    "## Note that i = :"
   ]
  },
  {
   "cell_type": "code",
   "execution_count": 7,
   "metadata": {},
   "outputs": [
    {
     "data": {
      "text/plain": [
       "array([29, 11,  5])"
      ]
     },
     "execution_count": 7,
     "metadata": {},
     "output_type": "execute_result"
    }
   ],
   "source": [
    "## What if I wanted the values 29, 11, and 5 in the third row?\n",
    "## j = 2\n",
    "## i = 2, 3, 4. Type: i = 2:5\n",
    "randomarray[2:5,2]"
   ]
  },
  {
   "cell_type": "code",
   "execution_count": 8,
   "metadata": {},
   "outputs": [
    {
     "data": {
      "text/plain": [
       "array([29, 11,  5])"
      ]
     },
     "execution_count": 8,
     "metadata": {},
     "output_type": "execute_result"
    }
   ],
   "source": [
    "## Another way you can type:\n",
    "randomarray[(2,3,4),2]"
   ]
  },
  {
   "cell_type": "code",
   "execution_count": 26,
   "metadata": {},
   "outputs": [
    {
     "data": {
      "text/plain": [
       "array([[11, 20],\n",
       "       [16, 41],\n",
       "       [ 5,  8]])"
      ]
     },
     "execution_count": 26,
     "metadata": {},
     "output_type": "execute_result"
    }
   ],
   "source": [
    "## If I wanted:\n",
    "## i = 3,6,8\n",
    "## j = 2,3\n",
    "randomarray[(3,6,8),2:4]   ## can also type: randomarray[[3,6,8],2:4]\n",
    "randomarray[[3,6,8],2:4]"
   ]
  },
  {
   "cell_type": "markdown",
   "metadata": {},
   "source": [
    "Remember:\n",
    "\n",
    "i. Start with 0\n",
    "\n",
    "ii. First spot is the row, and the second is the column\n",
    "\n",
    "iii. : is a \"give me all\" wildcard (for either row or column)\n",
    "\n",
    "iv. can use a range for things (3:5,3), or all (:).\n",
    "\n",
    "v. Can also give it specific indices - so like above, [(3,6,9),2]"
   ]
  },
  {
   "cell_type": "markdown",
   "metadata": {},
   "source": [
    "If we wanted to reference things in a non-consecutive way, we have to ask for the x,y position pairs (i.e., the exact combo of row and columns).\n",
    "\n",
    "For example, a tuple or list with 3 row indices, and 3 column indices will give an array with three things in it:"
   ]
  },
  {
   "cell_type": "code",
   "execution_count": 39,
   "metadata": {},
   "outputs": [
    {
     "data": {
      "text/plain": [
       "array([39, 19, 17])"
      ]
     },
     "execution_count": 39,
     "metadata": {},
     "output_type": "execute_result"
    }
   ],
   "source": [
    "randomarray[((2,5,3),(0,1,5))]"
   ]
  },
  {
   "cell_type": "code",
   "execution_count": 40,
   "metadata": {},
   "outputs": [
    {
     "data": {
      "text/plain": [
       "array([42,  3, 30, 11, 41,  5])"
      ]
     },
     "execution_count": 40,
     "metadata": {},
     "output_type": "execute_result"
    }
   ],
   "source": [
    "randomarray[(1,1,3,3,4,4,),(1,2,1,2,1,2)]"
   ]
  },
  {
   "cell_type": "markdown",
   "metadata": {},
   "source": [
    "We can put the referencing indices into variables, and then call those variables!"
   ]
  },
  {
   "cell_type": "code",
   "execution_count": 42,
   "metadata": {},
   "outputs": [
    {
     "data": {
      "text/plain": [
       "50"
      ]
     },
     "execution_count": 42,
     "metadata": {},
     "output_type": "execute_result"
    }
   ],
   "source": [
    "## For example:\n",
    "row_i = 0\n",
    "column_j = 4\n",
    "randomarray[row_i,column_j]"
   ]
  },
  {
   "cell_type": "code",
   "execution_count": 43,
   "metadata": {},
   "outputs": [
    {
     "name": "stdout",
     "output_type": "stream",
     "text": [
      "(array([ 0,  0,  1,  2,  4,  4,  6,  8,  8,  9, 10, 10, 11, 12],\n",
      "      dtype=int64), array([2, 4, 1, 3, 1, 4, 3, 1, 5, 2, 0, 3, 2, 0], dtype=int64))\n"
     ]
    }
   ],
   "source": [
    "## Remember the np.where funcion, that finds which indices in an array satisfy a certain condition\n",
    "## For example, what if we wanted the positions/indices in random_array where random_array was greater than 40?\n",
    "elements_gt_40 = np.where(randomarray > 40)\n",
    "print(elements_gt_40)"
   ]
  },
  {
   "cell_type": "code",
   "execution_count": 44,
   "metadata": {},
   "outputs": [
    {
     "data": {
      "text/plain": [
       "array([46, 50, 42, 44, 41, 45, 41, 42, 48, 46, 43, 50, 43, 48])"
      ]
     },
     "execution_count": 44,
     "metadata": {},
     "output_type": "execute_result"
    }
   ],
   "source": [
    "## one way is call the first array of elements_gt_40 (the row indices), and then the second (the column indices)\n",
    "randomarray[elements_gt_40[0],elements_gt_40[1]]"
   ]
  },
  {
   "cell_type": "code",
   "execution_count": 45,
   "metadata": {},
   "outputs": [
    {
     "data": {
      "text/plain": [
       "array([46, 50, 42, 44, 41, 45, 41, 42, 48, 46, 43, 50, 43, 48])"
      ]
     },
     "execution_count": 45,
     "metadata": {},
     "output_type": "execute_result"
    }
   ],
   "source": [
    "## There's an even faster way...\n",
    "randomarray[elements_gt_40]"
   ]
  },
  {
   "cell_type": "markdown",
   "metadata": {},
   "source": [
    "Note that np.where only works on arrays, and not lists! :(\n",
    "\n",
    "\n",
    "### Shapes and lengths of arrays\n",
    "We can use the function np.shape to get what the shape of an array is\n"
   ]
  },
  {
   "cell_type": "code",
   "execution_count": 46,
   "metadata": {},
   "outputs": [
    {
     "data": {
      "text/plain": [
       "(13, 6)"
      ]
     },
     "execution_count": 46,
     "metadata": {},
     "output_type": "execute_result"
    }
   ],
   "source": [
    "## What is the shape of our random array that we already made?\n",
    "np.shape(randomarray)"
   ]
  },
  {
   "cell_type": "code",
   "execution_count": 47,
   "metadata": {},
   "outputs": [
    {
     "name": "stdout",
     "output_type": "stream",
     "text": [
      "[24 11 39 37  8 23 25 13  9 12 43 17 48]\n"
     ]
    }
   ],
   "source": [
    "## Try making a 1D array:\n",
    "rand1d = randomarray[:,0]\n",
    "print(rand1d)"
   ]
  },
  {
   "cell_type": "code",
   "execution_count": 48,
   "metadata": {},
   "outputs": [
    {
     "data": {
      "text/plain": [
       "(13,)"
      ]
     },
     "execution_count": 48,
     "metadata": {},
     "output_type": "execute_result"
    }
   ],
   "source": [
    "## shape of it:\n",
    "np.shape(rand1d)"
   ]
  },
  {
   "cell_type": "code",
   "execution_count": 49,
   "metadata": {},
   "outputs": [
    {
     "name": "stdout",
     "output_type": "stream",
     "text": [
      "(13,)\n"
     ]
    }
   ],
   "source": [
    "rand1d_shape = np.shape(rand1d)\n",
    "print(rand1d_shape)"
   ]
  },
  {
   "cell_type": "code",
   "execution_count": 50,
   "metadata": {},
   "outputs": [
    {
     "data": {
      "text/plain": [
       "13"
      ]
     },
     "execution_count": 50,
     "metadata": {},
     "output_type": "execute_result"
    }
   ],
   "source": [
    "## What about the length?\n",
    "len(rand1d)"
   ]
  },
  {
   "cell_type": "code",
   "execution_count": 53,
   "metadata": {},
   "outputs": [
    {
     "data": {
      "text/plain": [
       "13"
      ]
     },
     "execution_count": 53,
     "metadata": {},
     "output_type": "execute_result"
    }
   ],
   "source": [
    "## Ask for length of 2D array - gives the number of rows:\n",
    "len(randomarray)"
   ]
  },
  {
   "cell_type": "code",
   "execution_count": null,
   "metadata": {},
   "outputs": [],
   "source": []
  },
  {
   "cell_type": "code",
   "execution_count": null,
   "metadata": {},
   "outputs": [],
   "source": []
  }
 ],
 "metadata": {
  "kernelspec": {
   "display_name": "Python 3 (ipykernel)",
   "language": "python",
   "name": "python3"
  },
  "language_info": {
   "codemirror_mode": {
    "name": "ipython",
    "version": 3
   },
   "file_extension": ".py",
   "mimetype": "text/x-python",
   "name": "python",
   "nbconvert_exporter": "python",
   "pygments_lexer": "ipython3",
   "version": "3.8.12"
  }
 },
 "nbformat": 4,
 "nbformat_minor": 2
}
