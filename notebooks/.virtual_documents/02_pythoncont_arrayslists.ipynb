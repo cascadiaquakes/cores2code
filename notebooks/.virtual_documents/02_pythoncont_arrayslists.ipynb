





## Import numpy
import numpy as np





## Set a equal to some number
a = 27


#################################
## Version 1 of the algorithm: ##
#################################


## We create a variable, evenorodd, which is the remainder after dividing a by 2:
evenorodd = a % 2 ## Or can type np.mod(a,2). Both work the same.

## If evenorodd equals 1, a is odd
if evenorodd == 1: ## The colon : is the equivalent of the "then" statement
    print('a is odd')
## Otherwise a is even:
else:
    print('a is even')





#################################
## Version 2 of the algorithm: ##
#################################

## Start off by assuming that a is even:
oddprintstatement = 'a is even'
print('first print statement')

## We create a variable, evenorodd, which is the remainder after dividing a by 2:
evenorodd = a % 2 ## Or can type np.mod(a,2). Both work the same.

## If evenorodd equals 1, a is odd
if evenorodd == 1: ## The colon : is the equivalent of the "then" statement
    oddprintstatement = 'a is odd'
    print('entered decision structure')

print(a)
print(oddprintstatement)








## Difference #1: How we make them
## To make a list:
mylist = [5,2,3,4,5]
print(mylist)

## to make an array, we need the package numpy (which we imported above)
myarray = np.array([5,2,3,4,5])
print(myarray)


## Difference #2: What we can do perform on them is different.
## Example: You can divide an array by 3 and that divides each element by 3:
print(myarray/3)


## This doesn't work with lists:
print(mylist/3)





## Difference #3: Lists can contain elements with different data types, arrays cannot:
list2 = ['favoritelunch',5,3.2,3e-3]
print(list2)


## Try with an array:
array2 = np.array(['favoritelunch',5,3.2,3e-3])
print(array2)





## Difference 4: We can add lists together to make a bigger list; adding arrays adds the elements (doesn't change size of array)
## Test it out:
## Make 2 lists:
list1 = [2,3,4]
list2 = [5,6,7]

## Add them together:
biggerlist = list1 + list2
print(biggerlist)


## Do same thing with arrays:
array1 = np.array([2,3,4])
array2 = np.array([5,6,7])

biggerarray = array1 + array2
print(biggerarray)


## Difference 5: Appending to arrays is different than with lists
## Noticed above that we can append two lists together by adding them.
## We can't do this with arrays

## To make a bigger array, np.append:
appendedarray = np.append(array1,array2)
print(appendedarray)


## Difference 6: Arrays can be multidimensional, Lists are 1-dimensional
## So can append arrays together either as rows or columns

## to append arrays as rows explicitly:
np.r_[array1,array2]


## Append them column-wise:
np.c_[array1,array2]








## Example: Change the first element of array1 to be 1 instead of 2:
print(array1)


array1[0]


## change the value of the first element:
array1[0] = 1
print(array1)


## With a tuple, we make them with parentheses (not brackets)
tuple1 = (2,3,4)
print(tuple1)


tuple1[0]


## Try and change the first element:
tuple1[0] = 1
print(tuple1)





lunchboxes = ['cheetos','apples','leftovers','gushers','sandwich','chicken','coffee','burrito']
print(lunchboxes)


## NOTE: Python starts counting at 0.
## A normal person might say they want the contents of the third lunchbox for lunch...
lunchboxes[3]


## That actually asked for the thing in the 4th lunchbox, we want the third:
lunchboxes[2]


## What if someone asks you how many lunchboxes you have?
## We want the "length" of the list, use "len"
len(lunchboxes)


## will this run?
lunchboxes[8]


## If I want the last lunchbox:
print(lunchboxes[7])
print(lunchboxes[-1])


## What if I want the second through fourth lunchboxes?
lunchboxes[1:3] ## this will give me the second and third, but not fourth (index = 3)


## We actually have to do:
lunchboxes[1:4]









