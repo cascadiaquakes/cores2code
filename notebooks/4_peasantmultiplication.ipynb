{
 "cells": [
  {
   "cell_type": "markdown",
   "metadata": {},
   "source": [
    "<h1> Peasant Multiplication Test </h1>"
   ]
  },
  {
   "cell_type": "code",
   "execution_count": 10,
   "metadata": {},
   "outputs": [],
   "source": [
    "# Import numpy to use\n",
    "import numpy as np"
   ]
  },
  {
   "cell_type": "code",
   "execution_count": 11,
   "metadata": {},
   "outputs": [],
   "source": [
    "## Write the peasant multiplication algorithm\n",
    "## Run it for x = 123, y = 456\n",
    "\n",
    "## First, set x and y:\n",
    "x = 123\n",
    "y = 456"
   ]
  },
  {
   "cell_type": "code",
   "execution_count": 12,
   "metadata": {},
   "outputs": [
    {
     "name": "stdout",
     "output_type": "stream",
     "text": [
      "x is odd, product is 456\n",
      "x is  61.0  y is  912\n",
      "x is odd, product is 1368\n",
      "x is  30.0  y is  1824\n",
      "x is  15.0  y is  3648\n",
      "x is odd, product is 5016\n",
      "x is  7.0  y is  7296\n",
      "x is odd, product is 12312\n",
      "x is  3.0  y is  14592\n",
      "x is odd, product is 26904\n",
      "x is  1.0  y is  29184\n",
      "x is odd, product is 56088\n",
      "x is  0.0  y is  58368\n",
      "Final product is  56088\n"
     ]
    }
   ],
   "source": [
    "## Start the algorithm\n",
    "## Set the product equal to 0:\n",
    "prod = 0\n",
    "## while x > 0 , do some stuff:\n",
    "while x > 0:\n",
    "    ## If x is odd, add to the product:\n",
    "    if np.mod(x,2) != 0:\n",
    "        ## add y to the product\n",
    "        prod = prod + y\n",
    "        ## print screen:\n",
    "        print('x is odd, product is', np.str(prod))\n",
    "    ## Either way (x is odd or even), change x and y:\n",
    "    x = np.floor(x/2)\n",
    "    y = y+y\n",
    "    print('x is ',np.str(x),' y is ',np.str(y))\n",
    "## Return the product\n",
    "print('Final product is ',np.str(prod))"
   ]
  },
  {
   "cell_type": "code",
   "execution_count": null,
   "metadata": {},
   "outputs": [],
   "source": []
  }
 ],
 "metadata": {
  "kernelspec": {
   "display_name": "Python 3",
   "language": "python",
   "name": "python3"
  },
  "language_info": {
   "codemirror_mode": {
    "name": "ipython",
    "version": 3
   },
   "file_extension": ".py",
   "mimetype": "text/x-python",
   "name": "python",
   "nbconvert_exporter": "python",
   "pygments_lexer": "ipython3",
   "version": "3.7.4"
  }
 },
 "nbformat": 4,
 "nbformat_minor": 2
}
