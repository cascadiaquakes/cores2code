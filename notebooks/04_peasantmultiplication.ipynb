{
 "cells": [
  {
   "cell_type": "markdown",
   "metadata": {},
   "source": [
    "# 04: Discussing Efficiency - Peasant Multiplication Test\n",
    "This notebook demonstrates the Peasant Multiplication algorithm, an ancient method for multiplying two numbers using only addition, halving, and doubling. It is also known as Russian Peasant Multiplication. The algorithm is efficient and illustrates how complex operations can be broken down into simpler steps.\n",
    "\n",
    "> **Trivia:**  \n",
    "> The name \"Peasant Multiplication\" comes from the idea that the method could be performed by peasants who might not know the full multiplication table, but could easily double, halve, and add numbers. The algorithm is also called \"Russian Peasant Multiplication\" because it was widely used in Russia, but similar techniques have been found in ancient Egyptian mathematics as well.\n",
    "\n",
    "## What is Peasant Multiplication?\n",
    "\n",
    "Peasant Multiplication works by repeatedly halving one number and doubling the other, adding the doubled number to the result whenever the halved number is odd. This process continues until the halved number reaches zero.\n",
    "\n",
    "- **Start with two numbers**, x and y.\n",
    "- **Initialize the product** to 0.\n",
    "- **Repeat the following steps until x becomes 0:**\n",
    "    - If x is **odd**, **add y to the product**.\n",
    "    - **Halve x** (discard any remainder, i.e., use floor division).\n",
    "    - **Double y**.\n",
    "- **The final product** is the result of the multiplication.\n",
    "\n",
    "This method leverages the binary representation of numbers: each time x is odd, it corresponds to a '1' in its binary form, and the corresponding y is added to the product.\n",
    "\n",
    "### Example\n",
    "\n",
    "Let's multiply 13 by 12:\n",
    "\n",
    "| Step | x (halved) | y (doubled) | x odd? | Add y to product? | Product |\n",
    "|------|------------|-------------|--------|-------------------|---------|\n",
    "| 1    | 13         | 12          | Yes    | Yes               | 12      |\n",
    "| 2    | 6          | 24          | No     | No                | 12      |\n",
    "| 3    | 3          | 48          | Yes    | Yes               | 12+48=60|\n",
    "| 4    | 1          | 96          | Yes    | Yes               | 60+96=156|\n",
    "| 5    | 0          | 192         | -      | -                 | 156     |\n",
    "\n",
    "Final result: 13 × 12 = 156\n",
    "\n",
    "### Truth Table for Odd/Even Check\n",
    "\n",
    "| x    | x % 2 == 1 (Odd?) |\n",
    "|------|-------------------|\n",
    "| 13   | True              |\n",
    "| 6    | False             |\n",
    "| 3    | True              |\n",
    "| 1    | True              |\n",
    "| 0    | False             |\n",
    "\n",
    "### Pseudocode\n",
    "\n",
    "Pseudocode is a way to describe algorithms using a mixture of natural language and programming-like structure. It is not written in any specific programming language and cannot be executed by a computer. Instead, it focuses on the logic and steps of the algorithm, making it easy for humans to read and understand.\n",
    "\n",
    "Unlike regular code, pseudocode does not follow strict syntax rules and ignores language-specific details such as variable declarations, data types, or exact function names. This abstraction allows programmers and non-programmers alike to discuss and design algorithms without worrying about implementation details.\n",
    "\n",
    "Pseudocode is used to:\n",
    "- Plan and communicate algorithms before coding.\n",
    "- Make the logic clear and language-agnostic.\n",
    "- Help identify errors or improvements in the algorithm's structure.\n",
    "- Serve as a blueprint for translating the logic into actual code in any programming language.\n",
    "\n",
    "```\n",
    "function peasant_multiply(x, y)\n",
    "    set product to 0\n",
    "    while x is greater than 0\n",
    "        if x is odd\n",
    "            add y to product\n",
    "        halve x (discard remainder)\n",
    "        double y\n",
    "    return product\n",
    "```\n",
    "\n",
    "This notebook will walk through the implementation and execution of this algorithm step by step."
   ]
  },
  {
   "cell_type": "code",
   "execution_count": 1,
   "metadata": {},
   "outputs": [],
   "source": [
    "# Import numpy to use\n",
    "import numpy as np"
   ]
  },
  {
   "cell_type": "code",
   "execution_count": 2,
   "metadata": {},
   "outputs": [],
   "source": [
    "## Write the peasant multiplication algorithm\n",
    "## Run it for x = 123, y = 456\n",
    "\n",
    "## First, set x and y:\n",
    "x = 123\n",
    "y = 456"
   ]
  },
  {
   "cell_type": "code",
   "execution_count": 8,
   "metadata": {},
   "outputs": [
    {
     "name": "stdout",
     "output_type": "stream",
     "text": [
      "x is odd, product is 456\n",
      "x is  61.0  y is  912\n",
      "x is odd, product is 1368\n",
      "x is  30.0  y is  1824\n",
      "x is  15.0  y is  3648\n",
      "x is odd, product is 5016\n",
      "x is  7.0  y is  7296\n",
      "x is odd, product is 12312\n",
      "x is  3.0  y is  14592\n",
      "x is odd, product is 26904\n",
      "x is  1.0  y is  29184\n",
      "x is odd, product is 56088\n",
      "x is  0.0  y is  58368\n",
      "Final product is  56088\n"
     ]
    }
   ],
   "source": [
    "## Start the algorithm\n",
    "## Set the product equal to 0:\n",
    "prod = 0\n",
    "## while x > 0 , do some stuff:\n",
    "while x > 0:\n",
    "    ## If x is odd, add to the product:\n",
    "    if np.mod(x,2) != 0:\n",
    "        ## add y to the product\n",
    "        prod = prod + y\n",
    "        ## print screen:\n",
    "        print('x is odd, product is', str(prod))\n",
    "    ## Either way (x is odd or even), change x and y:\n",
    "    x = np.floor(x/2)\n",
    "    y = y+y\n",
    "    print('x is ', str(x), ' y is ', str(y))\n",
    "## Return the product\n",
    "print('Final product is ', str(prod))"
   ]
  },
  {
   "cell_type": "code",
   "execution_count": 9,
   "metadata": {},
   "outputs": [
    {
     "name": "stdout",
     "output_type": "stream",
     "text": [
      "Final product is 56088\n",
      "Elapsed time: 61.99 microseconds\n"
     ]
    }
   ],
   "source": [
    "import time\n",
    "\n",
    "# Reset x and y for timing\n",
    "x = 123\n",
    "y = 456\n",
    "prod = 0\n",
    "\n",
    "start_time = time.time()\n",
    "\n",
    "while x > 0:\n",
    "    if np.mod(x, 2) != 0:\n",
    "        prod = prod + y\n",
    "    x = np.floor(x / 2)\n",
    "    y = y + y\n",
    "\n",
    "end_time = time.time()\n",
    "elapsed_time = end_time - start_time\n",
    "\n",
    "print('Final product is', prod)\n",
    "print('Elapsed time: {:.2f} microseconds'.format(elapsed_time * 1e6))"
   ]
  },
  {
   "cell_type": "code",
   "execution_count": 10,
   "metadata": {},
   "outputs": [
    {
     "name": "stdout",
     "output_type": "stream",
     "text": [
      "Result using * operator: 56088\n",
      "Elapsed time: 17.17 microseconds\n"
     ]
    }
   ],
   "source": [
    "# Reset x and y for timing\n",
    "x = 123\n",
    "y = 456\n",
    "\n",
    "start_time = time.time()\n",
    "\n",
    "result = x * y\n",
    "\n",
    "end_time = time.time()\n",
    "elapsed_time = end_time - start_time\n",
    "\n",
    "print('Result using * operator:', result)\n",
    "print('Elapsed time: {:.2f} microseconds'.format(elapsed_time * 1e6))"
   ]
  },
  {
   "cell_type": "markdown",
   "metadata": {},
   "source": [
    "## Performance: Peasant Multiplication vs. Regular Multiplication\n",
    "\n",
    "The regular multiplication operator (`*`) in Python (and most programming languages) is highly optimized at the hardware and software level. Modern CPUs can multiply integers in a single instruction, making this operation extremely fast.\n",
    "\n",
    "In contrast, the Peasant Multiplication algorithm breaks multiplication into a series of additions, halvings, and doublings, performed repeatedly in a loop. This involves more instructions and conditional checks, making it significantly slower than the built-in multiplication operator.\n",
    "\n",
    "### Why is Regular Multiplication Faster?\n",
    "\n",
    "- **Hardware Optimization:** CPUs have dedicated circuits for multiplication, allowing them to perform this operation in a single clock cycle.\n",
    "- **Algorithmic Complexity:** Peasant Multiplication requires multiple iterations, each involving division, addition, and conditional logic, which increases execution time.\n",
    "- **Interpreter Overhead:** Each step in the algorithm is interpreted and executed separately, adding further overhead compared to a single operator.\n",
    "\n",
    "### Importance of Timing in Scientific Computing\n",
    "\n",
    "In scientific computing, algorithms often process large datasets or perform complex calculations repeatedly. Even small inefficiencies can add up to significant delays when scaled up. Measuring and optimizing the execution time of code is crucial for:\n",
    "\n",
    "- **Efficiency:** Faster code means results are obtained sooner, which is essential for research and real-time applications.\n",
    "- **Resource Utilization:** Efficient code uses less CPU time and memory, allowing more computations to be performed on the same hardware.\n",
    "- **Scalability:** Optimized algorithms can handle larger problems and datasets.\n",
    "\n",
    "**In summary:** While Peasant Multiplication is an interesting historical algorithm, the built-in multiplication operator is much faster and preferred for practical use, especially when performance matters. Timing considerations help ensure that scientific code runs efficiently and scales to meet the demands of modern research."
   ]
  }
 ],
 "metadata": {
  "kernelspec": {
   "display_name": "base",
   "language": "python",
   "name": "python3"
  },
  "language_info": {
   "codemirror_mode": {
    "name": "ipython",
    "version": 3
   },
   "file_extension": ".py",
   "mimetype": "text/x-python",
   "name": "python",
   "nbconvert_exporter": "python",
   "pygments_lexer": "ipython3",
   "version": "3.10.6"
  }
 },
 "nbformat": 4,
 "nbformat_minor": 2
}
