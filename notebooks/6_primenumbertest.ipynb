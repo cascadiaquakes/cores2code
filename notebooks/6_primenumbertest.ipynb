{
 "cells": [
  {
   "cell_type": "markdown",
   "metadata": {},
   "source": [
    "## Testing algorithms to decide if a number is prime\n",
    "\n",
    "This notebook explores different algorithms to determine whether a given number is prime. We implement and test several approaches, including basic loops, counting divisors, and defining reusable functions. Each method is demonstrated with example numbers, and the results are printed for clarity. The notebook also includes explanations and step-by-step outputs to help understand how each algorithm works.\n"
   ]
  },
  {
   "cell_type": "code",
   "execution_count": 30,
   "metadata": {},
   "outputs": [],
   "source": [
    "import numpy as np\n",
    "import matplotlib.pyplot as plt"
   ]
  },
  {
   "cell_type": "code",
   "execution_count": 14,
   "metadata": {},
   "outputs": [],
   "source": [
    "x = 29"
   ]
  },
  {
   "cell_type": "markdown",
   "metadata": {},
   "source": [
    "This algorithm checks if a given number `x` is prime by attempting to divide it by every integer from 2 up to half of `x`. If any of these numbers divides `x` evenly (i.e., with no remainder), the algorithm concludes that `x` is not a prime number and stops checking further. If none of the numbers divide `x`, it determines that `x` is a prime number. This approach is straightforward but not the most efficient, as it checks more numbers than necessary for larger values of `x`."
   ]
  },
  {
   "cell_type": "code",
   "execution_count": 15,
   "metadata": {},
   "outputs": [
    {
     "name": "stdout",
     "output_type": "stream",
     "text": [
      "Checking if 29 is divisible by 2...\n",
      "Checking if 29 is divisible by 3...\n",
      "Checking if 29 is divisible by 4...\n",
      "Checking if 29 is divisible by 5...\n",
      "Checking if 29 is divisible by 6...\n",
      "Checking if 29 is divisible by 7...\n",
      "Checking if 29 is divisible by 8...\n",
      "Checking if 29 is divisible by 9...\n",
      "Checking if 29 is divisible by 10...\n",
      "Checking if 29 is divisible by 11...\n",
      "Checking if 29 is divisible by 12...\n",
      "Checking if 29 is divisible by 13...\n",
      "Checking if 29 is divisible by 14...\n",
      "29  is a prime number\n"
     ]
    }
   ],
   "source": [
    "\n",
    "if x > 1:\n",
    "    for i in range(2,int(x/2)+1):\n",
    "        print(f\"Checking if {x} is divisible by {i}...\")\n",
    "        if x % i == 0 :\n",
    "            print(x,' is not a prime number')\n",
    "            break\n",
    "    else:\n",
    "        print(x,' is a prime number')\n",
    "else:\n",
    "    print(x, 'is a prime number')"
   ]
  },
  {
   "cell_type": "markdown",
   "metadata": {},
   "source": [
    "The algorithm described above is not efficient because it checks divisibility for every integer from 2 up to half of `x`. For large numbers, this results in many unnecessary checks, as a non-prime number will always have a factor less than or equal to its square root. More efficient algorithms only check up to the square root of the number, significantly reducing the number of iterations.\n",
    "\n",
    "For further reading on prime-finding algorithms and optimizations, consider exploring:\n",
    "- [Sieve of Eratosthenes](https://en.wikipedia.org/wiki/Sieve_of_Eratosthenes)\n",
    "- [Primality tests](https://en.wikipedia.org/wiki/Primality_test)\n",
    "- [Miller–Rabin primality test](https://en.wikipedia.org/wiki/Miller%E2%80%93Rabin_primality_test)\n",
    "- [AKS primality test](https://en.wikipedia.org/wiki/AKS_primality_test)\n",
    "\n",
    "These resources cover both basic and advanced methods for efficiently determining whether a number is prime.\n",
    "\n",
    "Let's actually implement that below:"
   ]
  },
  {
   "cell_type": "code",
   "execution_count": 23,
   "metadata": {},
   "outputs": [
    {
     "name": "stdout",
     "output_type": "stream",
     "text": [
      "29 is prime\n"
     ]
    }
   ],
   "source": [
    "# Last alternative: Efficient prime check using square root\n",
    "\n",
    "# Define the number to check\n",
    "number_to_check = 29\n",
    "\n",
    "# Assume the number is prime until proven otherwise\n",
    "is_prime = True\n",
    "\n",
    "# Only check divisors up to and including the square root of the number\n",
    "for divisor in range(2, int(number_to_check ** 0.5) + 1):\n",
    "    if number_to_check % divisor == 0:\n",
    "        # Found a divisor, so the number is not prime\n",
    "        is_prime = False\n",
    "        break\n",
    "\n",
    "# Output the result\n",
    "if is_prime and number_to_check > 1:\n",
    "    print(number_to_check, 'is prime')\n",
    "else:\n",
    "    print(number_to_check, 'is not prime')\n"
   ]
  },
  {
   "cell_type": "markdown",
   "metadata": {},
   "source": [
    "## New Task: Checking Primality for All Numbers Up to N\n",
    "\n",
    "Suppose we want to check whether every number up to a user-specified value `N` is prime. To accomplish this efficiently and avoid repeating code, we can use a **function**.\n",
    "\n",
    "### What is a Function?\n",
    "\n",
    "A function is a reusable block of code that performs a specific task. Functions allow us to organize our code, avoid repetition, and make our programs easier to read and maintain. By defining a function to check if a number is prime, we can call this function for each number from 2 up to `N`, rather than rewriting the primality check each time.\n",
    "\n",
    "### Why Use a Function Here?\n",
    "\n",
    "- **Reusability:** We can check any number for primality by calling the function with different arguments.\n",
    "- **Clarity:** The logic for checking primality is contained in one place, making the code easier to understand.\n",
    "- **Maintainability:** If we want to improve or fix our primality test, we only need to update the function, not every place where the check occurs.\n",
    "\n",
    "In the next steps, we will define such a function and use it to check all numbers up to `N` for primality."
   ]
  },
  {
   "cell_type": "code",
   "execution_count": 25,
   "metadata": {},
   "outputs": [
    {
     "name": "stdout",
     "output_type": "stream",
     "text": [
      "29 is prime\n"
     ]
    }
   ],
   "source": [
    "def is_prime_efficient(n):\n",
    "    \"\"\"\n",
    "    Check if a number is prime using an efficient algorithm.\n",
    "\n",
    "    This function returns True if 'n' is a prime number, and False otherwise.\n",
    "    It uses the square root optimization: only checks divisibility up to sqrt(n).\n",
    "\n",
    "    Parameters:\n",
    "        n (int): The number to check for primality.\n",
    "\n",
    "    Returns:\n",
    "        bool: True if n is prime, False otherwise.\n",
    "    \"\"\"\n",
    "    if n <= 1:\n",
    "        return False\n",
    "    for divisor in range(2, int(n ** 0.5) + 1):\n",
    "        if n % divisor == 0:\n",
    "            return False\n",
    "    return True\n",
    "\n",
    "# Example usage:\n",
    "print(number_to_check, 'is prime' if is_prime_efficient(number_to_check) else 'is not prime')\n"
   ]
  },
  {
   "cell_type": "markdown",
   "metadata": {},
   "source": [
    "### Understanding Function Attributes: Docstrings and More\n",
    "\n",
    "In Python, functions can have several important attributes that help describe their purpose and usage:\n",
    "\n",
    "- **Docstring:**  \n",
    "    A docstring is a special string literal that appears right after the function definition. It describes what the function does, its parameters, and its return value. Docstrings are enclosed in triple quotes (`\"\"\" ... \"\"\"`) and can be accessed using `function_name.__doc__`.  \n",
    "    Example from above:\n",
    "    ```python\n",
    "    def is_prime_efficient(n):\n",
    "            \"\"\"\n",
    "            Check if a number is prime using an efficient algorithm.\n",
    "\n",
    "            This function returns True if 'n' is a prime number, and False otherwise.\n",
    "            It uses the square root optimization: only checks divisibility up to sqrt(n).\n",
    "\n",
    "            Parameters:\n",
    "                    n (int): The number to check for primality.\n",
    "\n",
    "            Returns:\n",
    "                    bool: True if n is prime, False otherwise.\n",
    "            \"\"\"\n",
    "            ...\n",
    "    ```\n",
    "    This docstring explains the function's purpose, parameters, and return value.\n",
    "\n",
    "- **Function Name:**  \n",
    "    The name you give a function (e.g., `is_prime_efficient`, `isPrime`) should be descriptive of its purpose.\n",
    "\n",
    "- **Parameters:**  \n",
    "    Functions can accept input values (parameters), which are listed in parentheses after the function name. For example, `n` in `is_prime_efficient(n)`.\n",
    "\n",
    "- **Return Value:**  \n",
    "    Functions can return a value using the `return` statement. This value can be used elsewhere in your code.\n",
    "\n",
    "- **Printing vs. Returning:**  \n",
    "    - `is_prime_efficient` returns a boolean value (`True` or `False`).\n",
    "    - `isPrime` prints information during execution and also returns a boolean.\n",
    "\n",
    "\n",
    "Docstrings are essential for documenting what a function does, making your code easier to understand and maintain. Always include a clear docstring for any function you define, especially if others will use your code or if you plan to revisit it later."
   ]
  },
  {
   "cell_type": "code",
   "execution_count": 34,
   "metadata": {},
   "outputs": [
    {
     "name": "stdout",
     "output_type": "stream",
     "text": [
      "Primes up to 5000: [2, 3, 5, 7, 11, 13, 17, 19, 23, 29, 31, 37, 41, 43, 47, 53, 59, 61, 67, 71, 73, 79, 83, 89, 97, 101, 103, 107, 109, 113, 127, 131, 137, 139, 149, 151, 157, 163, 167, 173, 179, 181, 191, 193, 197, 199, 211, 223, 227, 229, 233, 239, 241, 251, 257, 263, 269, 271, 277, 281, 283, 293, 307, 311, 313, 317, 331, 337, 347, 349, 353, 359, 367, 373, 379, 383, 389, 397, 401, 409, 419, 421, 431, 433, 439, 443, 449, 457, 461, 463, 467, 479, 487, 491, 499, 503, 509, 521, 523, 541, 547, 557, 563, 569, 571, 577, 587, 593, 599, 601, 607, 613, 617, 619, 631, 641, 643, 647, 653, 659, 661, 673, 677, 683, 691, 701, 709, 719, 727, 733, 739, 743, 751, 757, 761, 769, 773, 787, 797, 809, 811, 821, 823, 827, 829, 839, 853, 857, 859, 863, 877, 881, 883, 887, 907, 911, 919, 929, 937, 941, 947, 953, 967, 971, 977, 983, 991, 997, 1009, 1013, 1019, 1021, 1031, 1033, 1039, 1049, 1051, 1061, 1063, 1069, 1087, 1091, 1093, 1097, 1103, 1109, 1117, 1123, 1129, 1151, 1153, 1163, 1171, 1181, 1187, 1193, 1201, 1213, 1217, 1223, 1229, 1231, 1237, 1249, 1259, 1277, 1279, 1283, 1289, 1291, 1297, 1301, 1303, 1307, 1319, 1321, 1327, 1361, 1367, 1373, 1381, 1399, 1409, 1423, 1427, 1429, 1433, 1439, 1447, 1451, 1453, 1459, 1471, 1481, 1483, 1487, 1489, 1493, 1499, 1511, 1523, 1531, 1543, 1549, 1553, 1559, 1567, 1571, 1579, 1583, 1597, 1601, 1607, 1609, 1613, 1619, 1621, 1627, 1637, 1657, 1663, 1667, 1669, 1693, 1697, 1699, 1709, 1721, 1723, 1733, 1741, 1747, 1753, 1759, 1777, 1783, 1787, 1789, 1801, 1811, 1823, 1831, 1847, 1861, 1867, 1871, 1873, 1877, 1879, 1889, 1901, 1907, 1913, 1931, 1933, 1949, 1951, 1973, 1979, 1987, 1993, 1997, 1999, 2003, 2011, 2017, 2027, 2029, 2039, 2053, 2063, 2069, 2081, 2083, 2087, 2089, 2099, 2111, 2113, 2129, 2131, 2137, 2141, 2143, 2153, 2161, 2179, 2203, 2207, 2213, 2221, 2237, 2239, 2243, 2251, 2267, 2269, 2273, 2281, 2287, 2293, 2297, 2309, 2311, 2333, 2339, 2341, 2347, 2351, 2357, 2371, 2377, 2381, 2383, 2389, 2393, 2399, 2411, 2417, 2423, 2437, 2441, 2447, 2459, 2467, 2473, 2477, 2503, 2521, 2531, 2539, 2543, 2549, 2551, 2557, 2579, 2591, 2593, 2609, 2617, 2621, 2633, 2647, 2657, 2659, 2663, 2671, 2677, 2683, 2687, 2689, 2693, 2699, 2707, 2711, 2713, 2719, 2729, 2731, 2741, 2749, 2753, 2767, 2777, 2789, 2791, 2797, 2801, 2803, 2819, 2833, 2837, 2843, 2851, 2857, 2861, 2879, 2887, 2897, 2903, 2909, 2917, 2927, 2939, 2953, 2957, 2963, 2969, 2971, 2999, 3001, 3011, 3019, 3023, 3037, 3041, 3049, 3061, 3067, 3079, 3083, 3089, 3109, 3119, 3121, 3137, 3163, 3167, 3169, 3181, 3187, 3191, 3203, 3209, 3217, 3221, 3229, 3251, 3253, 3257, 3259, 3271, 3299, 3301, 3307, 3313, 3319, 3323, 3329, 3331, 3343, 3347, 3359, 3361, 3371, 3373, 3389, 3391, 3407, 3413, 3433, 3449, 3457, 3461, 3463, 3467, 3469, 3491, 3499, 3511, 3517, 3527, 3529, 3533, 3539, 3541, 3547, 3557, 3559, 3571, 3581, 3583, 3593, 3607, 3613, 3617, 3623, 3631, 3637, 3643, 3659, 3671, 3673, 3677, 3691, 3697, 3701, 3709, 3719, 3727, 3733, 3739, 3761, 3767, 3769, 3779, 3793, 3797, 3803, 3821, 3823, 3833, 3847, 3851, 3853, 3863, 3877, 3881, 3889, 3907, 3911, 3917, 3919, 3923, 3929, 3931, 3943, 3947, 3967, 3989, 4001, 4003, 4007, 4013, 4019, 4021, 4027, 4049, 4051, 4057, 4073, 4079, 4091, 4093, 4099, 4111, 4127, 4129, 4133, 4139, 4153, 4157, 4159, 4177, 4201, 4211, 4217, 4219, 4229, 4231, 4241, 4243, 4253, 4259, 4261, 4271, 4273, 4283, 4289, 4297, 4327, 4337, 4339, 4349, 4357, 4363, 4373, 4391, 4397, 4409, 4421, 4423, 4441, 4447, 4451, 4457, 4463, 4481, 4483, 4493, 4507, 4513, 4517, 4519, 4523, 4547, 4549, 4561, 4567, 4583, 4591, 4597, 4603, 4621, 4637, 4639, 4643, 4649, 4651, 4657, 4663, 4673, 4679, 4691, 4703, 4721, 4723, 4729, 4733, 4751, 4759, 4783, 4787, 4789, 4793, 4799, 4801, 4813, 4817, 4831, 4861, 4871, 4877, 4889, 4903, 4909, 4919, 4931, 4933, 4937, 4943, 4951, 4957, 4967, 4969, 4973, 4987, 4993, 4999]\n"
     ]
    }
   ],
   "source": [
    "# Define N (you can change this value as needed)\n",
    "N = 5000\n",
    "\n",
    "# Find all primes up to N using the is_prime_efficient function\n",
    "primes_up_to_N = []\n",
    "for n in range(2, N + 1):\n",
    "    if is_prime_efficient(n):\n",
    "        primes_up_to_N.append(n)\n",
    "print(f\"Primes up to {N}:\", primes_up_to_N)"
   ]
  },
  {
   "cell_type": "code",
   "execution_count": 35,
   "metadata": {},
   "outputs": [
    {
     "name": "stderr",
     "output_type": "stream",
     "text": [
      "/var/folders/5x/5xtm6r7126g41vdgwb462xp40000gn/T/ipykernel_91341/655901627.py:3: MatplotlibDeprecationWarning: The 'use_line_collection' parameter of stem() was deprecated in Matplotlib 3.6 and will be removed two minor releases later. If any parameter follows 'use_line_collection', they should be passed as keyword, not positionally.\n",
      "  markerline, stemlines, baseline = plt.stem(primes_up_to_N, [1]*len(primes_up_to_N), use_line_collection=True)\n"
     ]
    },
    {
     "data": {
      "image/png": "[encoded data removed]",
      "text/plain": [
       "<Figure size 1000x400 with 1 Axes>"
      ]
     },
     "metadata": {},
     "output_type": "display_data"
    }
   ],
   "source": [
    "# Create a stem plot showing the positions of primes up to N\n",
    "plt.figure(figsize=(10, 4))\n",
    "markerline, stemlines, baseline = plt.stem(primes_up_to_N, [1]*len(primes_up_to_N), use_line_collection=True)\n",
    "plt.setp(markerline, 'markerfacecolor', 'b')\n",
    "plt.setp(stemlines, 'color', 'b')\n",
    "plt.yticks([0, 1], ['', 'Prime'])\n",
    "plt.xlabel('Number')\n",
    "plt.title(f'Stem Plot of Primes up to {N}')\n",
    "plt.ylim(0, 1.2)\n",
    "plt.show()"
   ]
  },
  {
   "cell_type": "markdown",
   "metadata": {},
   "source": [
    "## Summary of the Notebook\n",
    "\n",
    "This notebook explored various algorithms for determining whether a number is prime. It began with a basic approach that checks divisibility up to half the number, then introduced a more efficient method that only checks up to the square root. The importance of using functions for code reuse and clarity was demonstrated by defining an efficient primality test function, `is_prime_efficient(n)`. This function was then used to find all prime numbers up to a user-defined value `N` (set to 5000), and the results were visualized using a stem plot.\n",
    "\n",
    "### Key Learnings\n",
    "\n",
    "- **Prime Checking Algorithms:**  \n",
    "    Learned the difference between basic and optimized approaches for checking if a number is prime, and why checking up to the square root is more efficient.\n",
    "\n",
    "- **Code Reusability with Functions:**  \n",
    "    Saw how defining a function for primality testing makes the code cleaner, reusable, and easier to maintain.\n",
    "\n",
    "- **Documentation with Docstrings:**  \n",
    "    Understood the importance of documenting functions using docstrings for clarity and future reference.\n",
    "\n",
    "- **Visualization:**  \n",
    "    Used matplotlib to visualize the distribution of prime numbers up to 5000, providing insight into their occurrence.\n",
    "\n",
    "- **Practical Application:**  \n",
    "    Combined algorithmic thinking, function design, and data visualization to solve and illustrate a classic problem in number theory."
   ]
  }
 ],
 "metadata": {
  "kernelspec": {
   "display_name": "base",
   "language": "python",
   "name": "python3"
  },
  "language_info": {
   "codemirror_mode": {
    "name": "ipython",
    "version": 3
   },
   "file_extension": ".py",
   "mimetype": "text/x-python",
   "name": "python",
   "nbconvert_exporter": "python",
   "pygments_lexer": "ipython3",
   "version": "3.10.6"
  }
 },
 "nbformat": 4,
 "nbformat_minor": 2
}
