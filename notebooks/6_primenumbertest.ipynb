{
 "cells": [
  {
   "cell_type": "markdown",
   "metadata": {},
   "source": [
    "## Testing algorithms to decide if a number is prime\n",
    "\n",
    "This notebook explores different algorithms to determine whether a given number is prime. We implement and test several approaches, including basic loops, counting divisors, and defining reusable functions. Each method is demonstrated with example numbers, and the results are printed for clarity. The notebook also includes explanations and step-by-step outputs to help understand how each algorithm works.\n"
   ]
  },
  {
   "cell_type": "code",
   "execution_count": 30,
   "metadata": {},
   "outputs": [],
   "source": [
    "import numpy as np\n",
    "import matplotlib.pyplot as plt"
   ]
  },
  {
   "cell_type": "code",
   "execution_count": 14,
   "metadata": {},
   "outputs": [],
   "source": [
    "x = 29"
   ]
  },
  {
   "cell_type": "markdown",
   "metadata": {},
   "source": [
    "This algorithm checks if a given number `x` is prime by attempting to divide it by every integer from 2 up to half of `x`. If any of these numbers divides `x` evenly (i.e., with no remainder), the algorithm concludes that `x` is not a prime number and stops checking further. If none of the numbers divide `x`, it determines that `x` is a prime number. This approach is straightforward but not the most efficient, as it checks more numbers than necessary for larger values of `x`."
   ]
  },
  {
   "cell_type": "code",
   "execution_count": 15,
   "metadata": {},
   "outputs": [
    {
     "name": "stdout",
     "output_type": "stream",
     "text": [
      "Checking if 29 is divisible by 2...\n",
      "Checking if 29 is divisible by 3...\n",
      "Checking if 29 is divisible by 4...\n",
      "Checking if 29 is divisible by 5...\n",
      "Checking if 29 is divisible by 6...\n",
      "Checking if 29 is divisible by 7...\n",
      "Checking if 29 is divisible by 8...\n",
      "Checking if 29 is divisible by 9...\n",
      "Checking if 29 is divisible by 10...\n",
      "Checking if 29 is divisible by 11...\n",
      "Checking if 29 is divisible by 12...\n",
      "Checking if 29 is divisible by 13...\n",
      "Checking if 29 is divisible by 14...\n",
      "29  is a prime number\n"
     ]
    }
   ],
   "source": [
    "\n",
    "if x > 1:\n",
    "    for i in range(2,int(x/2)+1):\n",
    "        print(f\"Checking if {x} is divisible by {i}...\")\n",
    "        if x % i == 0 :\n",
    "            print(x,' is not a prime number')\n",
    "            break\n",
    "    else:\n",
    "        print(x,' is a prime number')\n",
    "else:\n",
    "    print(x, 'is a prime number')"
   ]
  },
  {
   "cell_type": "markdown",
   "metadata": {},
   "source": [
    "The algorithm described above is not efficient because it checks divisibility for every integer from 2 up to half of `x`. For large numbers, this results in many unnecessary checks, as a non-prime number will always have a factor less than or equal to its square root. More efficient algorithms only check up to the square root of the number, significantly reducing the number of iterations.\n",
    "\n",
    "For further reading on prime-finding algorithms and optimizations, consider exploring:\n",
    "- [Sieve of Eratosthenes](https://en.wikipedia.org/wiki/Sieve_of_Eratosthenes)\n",
    "- [Primality tests](https://en.wikipedia.org/wiki/Primality_test)\n",
    "- [Miller–Rabin primality test](https://en.wikipedia.org/wiki/Miller%E2%80%93Rabin_primality_test)\n",
    "- [AKS primality test](https://en.wikipedia.org/wiki/AKS_primality_test)\n",
    "\n",
    "These resources cover both basic and advanced methods for efficiently determining whether a number is prime.\n",
    "\n",
    "Let's actually implement that below:"
   ]
  },
  {
   "cell_type": "code",
   "execution_count": 23,
   "metadata": {},
   "outputs": [
    {
     "name": "stdout",
     "output_type": "stream",
     "text": [
      "29 is prime\n"
     ]
    }
   ],
   "source": [
    "# Last alternative: Efficient prime check using square root\n",
    "\n",
    "# Define the number to check\n",
    "number_to_check = 29\n",
    "\n",
    "# Assume the number is prime until proven otherwise\n",
    "is_prime = True\n",
    "\n",
    "# Only check divisors up to and including the square root of the number\n",
    "for divisor in range(2, int(number_to_check ** 0.5) + 1):\n",
    "    if number_to_check % divisor == 0:\n",
    "        # Found a divisor, so the number is not prime\n",
    "        is_prime = False\n",
    "        break\n",
    "\n",
    "# Output the result\n",
    "if is_prime and number_to_check > 1:\n",
    "    print(number_to_check, 'is prime')\n",
    "else:\n",
    "    print(number_to_check, 'is not prime')\n"
   ]
  },
  {
   "cell_type": "markdown",
   "metadata": {},
   "source": [
    "## New Task: Checking Primality for All Numbers Up to N\n",
    "\n",
    "Suppose we want to check whether every number up to a user-specified value `N` is prime. To accomplish this efficiently and avoid repeating code, we can use a **function**.\n",
    "\n",
    "### What is a Function?\n",
    "\n",
    "A function is a reusable block of code that performs a specific task. Functions allow us to organize our code, avoid repetition, and make our programs easier to read and maintain. By defining a function to check if a number is prime, we can call this function for each number from 2 up to `N`, rather than rewriting the primality check each time.\n",
    "\n",
    "### Why Use a Function Here?\n",
    "\n",
    "- **Reusability:** We can check any number for primality by calling the function with different arguments.\n",
    "- **Clarity:** The logic for checking primality is contained in one place, making the code easier to understand.\n",
    "- **Maintainability:** If we want to improve or fix our primality test, we only need to update the function, not every place where the check occurs.\n",
    "\n",
    "In the next steps, we will define such a function and use it to check all numbers up to `N` for primality."
   ]
  },
  {
   "cell_type": "code",
   "execution_count": 25,
   "metadata": {},
   "outputs": [
    {
     "name": "stdout",
     "output_type": "stream",
     "text": [
      "29 is prime\n"
     ]
    }
   ],
   "source": [
    "def is_prime_efficient(n):\n",
    "    \"\"\"\n",
    "    Check if a number is prime using an efficient algorithm.\n",
    "\n",
    "    This function returns True if 'n' is a prime number, and False otherwise.\n",
    "    It uses the square root optimization: only checks divisibility up to sqrt(n).\n",
    "\n",
    "    Parameters:\n",
    "        n (int): The number to check for primality.\n",
    "\n",
    "    Returns:\n",
    "        bool: True if n is prime, False otherwise.\n",
    "    \"\"\"\n",
    "    if n <= 1:\n",
    "        return False\n",
    "    for divisor in range(2, int(n ** 0.5) + 1):\n",
    "        if n % divisor == 0:\n",
    "            return False\n",
    "    return True\n",
    "\n",
    "# Example usage:\n",
    "print(number_to_check, 'is prime' if is_prime_efficient(number_to_check) else 'is not prime')\n"
   ]
  },
  {
   "cell_type": "markdown",
   "metadata": {},
   "source": [
    "### Understanding Function Attributes: Docstrings and More\n",
    "\n",
    "In Python, functions can have several important attributes that help describe their purpose and usage:\n",
    "\n",
    "- **Docstring:**  \n",
    "    A docstring is a special string literal that appears right after the function definition. It describes what the function does, its parameters, and its return value. Docstrings are enclosed in triple quotes (`\"\"\" ... \"\"\"`) and can be accessed using `function_name.__doc__`.  \n",
    "    Example from above:\n",
    "    ```python\n",
    "    def is_prime_efficient(n):\n",
    "            \"\"\"\n",
    "            Check if a number is prime using an efficient algorithm.\n",
    "\n",
    "            This function returns True if 'n' is a prime number, and False otherwise.\n",
    "            It uses the square root optimization: only checks divisibility up to sqrt(n).\n",
    "\n",
    "            Parameters:\n",
    "                    n (int): The number to check for primality.\n",
    "\n",
    "            Returns:\n",
    "                    bool: True if n is prime, False otherwise.\n",
    "            \"\"\"\n",
    "            ...\n",
    "    ```\n",
    "    This docstring explains the function's purpose, parameters, and return value.\n",
    "\n",
    "- **Function Name:**  \n",
    "    The name you give a function (e.g., `is_prime_efficient`, `isPrime`) should be descriptive of its purpose.\n",
    "\n",
    "- **Parameters:**  \n",
    "    Functions can accept input values (parameters), which are listed in parentheses after the function name. For example, `n` in `is_prime_efficient(n)`.\n",
    "\n",
    "- **Return Value:**  \n",
    "    Functions can return a value using the `return` statement. This value can be used elsewhere in your code.\n",
    "\n",
    "- **Printing vs. Returning:**  \n",
    "    - `is_prime_efficient` returns a boolean value (`True` or `False`).\n",
    "    - `isPrime` prints information during execution and also returns a boolean.\n",
    "\n",
    "\n",
    "Docstrings are essential for documenting what a function does, making your code easier to understand and maintain. Always include a clear docstring for any function you define, especially if others will use your code or if you plan to revisit it later."
   ]
  },
  {
   "cell_type": "code",
   "execution_count": 38,
   "metadata": {},
   "outputs": [
    {
     "name": "stdout",
     "output_type": "stream",
     "text": [
      "Primes up to 100: [2, 3, 5, 7, 11, 13, 17, 19, 23, 29, 31, 37, 41, 43, 47, 53, 59, 61, 67, 71, 73, 79, 83, 89, 97]\n"
     ]
    }
   ],
   "source": [
    "# Define N (you can change this value as needed)\n",
    "N = 100\n",
    "\n",
    "# Find all primes up to N using the is_prime_efficient function\n",
    "primes_up_to_N = []\n",
    "for n in range(2, N + 1):\n",
    "    if is_prime_efficient(n):\n",
    "        primes_up_to_N.append(n)\n",
    "print(f\"Primes up to {N}:\", primes_up_to_N)"
   ]
  },
  {
   "cell_type": "code",
   "execution_count": 39,
   "metadata": {},
   "outputs": [
    {
     "data": {
      "image/png": "[encoded data removed]",
      "text/plain": [
       "<Figure size 1000x400 with 1 Axes>"
      ]
     },
     "metadata": {},
     "output_type": "display_data"
    }
   ],
   "source": [
    "# Create a stem plot showing the positions of primes up to N\n",
    "plt.figure(figsize=(10, 4))\n",
    "plt.stem(primes_up_to_N, [1] * len(primes_up_to_N), linefmt='b-', markerfmt='bo', basefmt=' ')\n",
    "plt.setp(markerline, 'markerfacecolor', 'b')\n",
    "plt.setp(stemlines, 'color', 'b')\n",
    "plt.yticks([0, 1], ['', 'Prime'])\n",
    "plt.xlabel('Number')\n",
    "plt.title(f'Stem Plot of Primes up to {N}')\n",
    "plt.ylim(0, 1.2)\n",
    "plt.show()"
   ]
  },
  {
   "cell_type": "markdown",
   "metadata": {},
   "source": [
    "## Summary of the Notebook\n",
    "\n",
    "This notebook explored various algorithms for determining whether a number is prime. It began with a basic approach that checks divisibility up to half the number, then introduced a more efficient method that only checks up to the square root. The importance of using functions for code reuse and clarity was demonstrated by defining an efficient primality test function, `is_prime_efficient(n)`. This function was then used to find all prime numbers up to a user-defined value `N` (set to 5000), and the results were visualized using a stem plot.\n",
    "\n",
    "### Key Learnings\n",
    "\n",
    "- **Prime Checking Algorithms:**  \n",
    "    Learned the difference between basic and optimized approaches for checking if a number is prime, and why checking up to the square root is more efficient.\n",
    "\n",
    "- **Code Reusability with Functions:**  \n",
    "    Saw how defining a function for primality testing makes the code cleaner, reusable, and easier to maintain.\n",
    "\n",
    "- **Documentation with Docstrings:**  \n",
    "    Understood the importance of documenting functions using docstrings for clarity and future reference.\n",
    "\n",
    "- **Visualization:**  \n",
    "    Used matplotlib to visualize the distribution of prime numbers up to 5000, providing insight into their occurrence.\n",
    "\n",
    "- **Practical Application:**  \n",
    "    Combined algorithmic thinking, function design, and data visualization to solve and illustrate a classic problem in number theory."
   ]
  }
 ],
 "metadata": {
  "kernelspec": {
   "display_name": "base",
   "language": "python",
   "name": "python3"
  },
  "language_info": {
   "codemirror_mode": {
    "name": "ipython",
    "version": 3
   },
   "file_extension": ".py",
   "mimetype": "text/x-python",
   "name": "python",
   "nbconvert_exporter": "python",
   "pygments_lexer": "ipython3",
   "version": "3.10.6"
  }
 },
 "nbformat": 4,
 "nbformat_minor": 2
}
